{
 "cells": [
  {
   "cell_type": "markdown",
   "metadata": {},
   "source": [
    "# Forecasts and Predictions\n",
    "## Project Description \n",
    "The gym chain Model Fitness is developing a customer interaction strategy based on analytical data. In order to fight churn, Model Fitness has digitized a number of its customer profiles.    \n",
    "My task is to analyze them and come up with a customer retention strategy.   \n",
    "- Learn to predict the probability of churn (for the upcoming month) for each customer\n",
    "- Draw up typical user portraits: select the most outstanding groups and describe their main features\n",
    "- Analyze the factors that impact churn most\n",
    "- Draw basic conclusions and develop recommendations on how to improve customer service:\n",
    "    - Identify target groups\n",
    "    - Suggest measures to cut churn\n",
    "    - Describe any other patterns you see with respect to interaction with customers"
   ]
  },
  {
   "cell_type": "markdown",
   "metadata": {},
   "source": [
    "## Table of Contents <a class=\"anchor\" id=\"go_up\"></a>\n",
    "\n",
    "* [Step 1. Downloading the data file and reading the general information](#step_1)\n",
    "* [Step 2. Exploratory data analysis (EDA)](#step_2)\n",
    "    * [2.1. Missing features. Mean values and standart deviation](#step_2_1)\n",
    "    * [2.2. Mean feature values for two groups](#step_2_2)\n",
    "    * [2.3. Bar histograms and feature distributions for two groups](#step_2_3)\n",
    "    * [2.4. Correlation matrix](#step_2_4)\n",
    "* [Step 3. Building a model to predict user churn](#step_3)    \n",
    "    * [3.1. Dividing the data into train and validation sets](#step_3_1)\n",
    "    * [3.2. Training the model on the train set with Logistic Regression method](#step_3_2)       \n",
    "    * [3.3. Training the model on the train set with Random Forest method](#step_3_3)\n",
    "    * [3.4. Training the model on the train set with Decision Tree method](#step_3_4)\n",
    "    * [3.5. Training the model on the train set with Gradient Boosting method](#step_3_5)\n",
    "    * [3.6. Accuracy, precision, and recall for both models](#step_3_6)\n",
    "    * [3.7. Comparing the models](#step_3_7)\n",
    "    * [3.8. Importance of Features](#step_3_8)    \n",
    "* [Step 4. Creating user clusters](#step_4) \n",
    "    * [4.1. Standardizing the data](#step_4_1)\n",
    "    * [4.2. Matrix of distances and dendrogram](#step_4_2)\n",
    "    * [4.3. Training the clustering model with the K-means algorithm](#step_4_3)\n",
    "    * [4.4. Mean feature values for clusters](#step_4_4)\n",
    "    * [4.5. Distributions of features for the clusters](#step_4_5)\n",
    "    * [4.6. Calculating the churn rate for the clusters](#step_4_6)\n",
    "* [Step 5. Conclusions and basic recommendations on working with customers](#step_5)\n",
    "* [General conclusion](#step_6)"
   ]
  },
  {
   "cell_type": "code",
   "execution_count": 43,
   "metadata": {},
   "outputs": [],
   "source": [
    "import pandas as pd\n",
    "import numpy as np\n",
    "import seaborn as sns\n",
    "import os\n",
    "import time\n",
    "from matplotlib import pyplot as plt\n",
    "from matplotlib.gridspec import GridSpec\n",
    "import pandas.util.testing as tm\n",
    "\n",
    "from sklearn.model_selection import train_test_split\n",
    "from sklearn.preprocessing import StandardScaler\n",
    "from sklearn.metrics import accuracy_score, precision_score, recall_score, f1_score, roc_auc_score, balanced_accuracy_score\n",
    "from sklearn.metrics import confusion_matrix, silhouette_score\n",
    "from sklearn.linear_model import LogisticRegression\n",
    "from sklearn.tree import DecisionTreeClassifier\n",
    "from sklearn.ensemble import RandomForestClassifier, GradientBoostingClassifier\n",
    "from sklearn.cluster import KMeans\n",
    "from scipy.cluster.hierarchy import dendrogram, linkage\n",
    "\n",
    "import warnings\n",
    "warnings.simplefilter(action='ignore', category=FutureWarning)"
   ]
  },
  {
   "cell_type": "markdown",
   "metadata": {},
   "source": [
    "[To the Table of Contents](#go_up)   \n",
    "## Step 1. <a class=\"anchor\" id=\"step_1\"></a>Downloading the data and reading the general information"
   ]
  },
  {
   "cell_type": "code",
   "execution_count": 2,
   "metadata": {},
   "outputs": [],
   "source": [
    "location1 = 'D:/Dropbox/Practicum/13_Forecasts and Predictions/Project/'\n",
    "location2 = '/datasets/'\n",
    "\n",
    "colors = ['blue','green','red','purple','yellow']\n",
    "#colors = ['#00ffdf','#00d8bd','#00bda5','#009f8b','#007667','#91f9e5','#76f7bf','#5fdd9d','#499167','#1c6747']\n",
    "#colors2 = ['#544cbd','#508fed','#8bd6f3','#a8e9dd','#d9ece0','#7400b8','#6930c3','#48bfe3','#72efdd','#80ffdb']"
   ]
  },
  {
   "cell_type": "code",
   "execution_count": 3,
   "metadata": {},
   "outputs": [
    {
     "name": "stdout",
     "output_type": "stream",
     "text": [
      "<class 'pandas.core.frame.DataFrame'>\n",
      "RangeIndex: 4000 entries, 0 to 3999\n",
      "Data columns (total 14 columns):\n",
      " #   Column                             Non-Null Count  Dtype  \n",
      "---  ------                             --------------  -----  \n",
      " 0   gender                             4000 non-null   int64  \n",
      " 1   Near_Location                      4000 non-null   int64  \n",
      " 2   Partner                            4000 non-null   int64  \n",
      " 3   Promo_friends                      4000 non-null   int64  \n",
      " 4   Phone                              4000 non-null   int64  \n",
      " 5   Contract_period                    4000 non-null   int64  \n",
      " 6   Group_visits                       4000 non-null   int64  \n",
      " 7   Age                                4000 non-null   int64  \n",
      " 8   Avg_additional_charges_total       4000 non-null   float64\n",
      " 9   Month_to_end_contract              4000 non-null   float64\n",
      " 10  Lifetime                           4000 non-null   int64  \n",
      " 11  Avg_class_frequency_total          4000 non-null   float64\n",
      " 12  Avg_class_frequency_current_month  4000 non-null   float64\n",
      " 13  Churn                              4000 non-null   int64  \n",
      "dtypes: float64(4), int64(10)\n",
      "memory usage: 437.6 KB\n"
     ]
    }
   ],
   "source": [
    "filename = 'gym_churn_us.csv'\n",
    "try:\n",
    "    gym = pd.read_csv(os.path.join(location2,filename))\n",
    "except:\n",
    "    gym = pd.read_csv(os.path.join(location1,filename))\n",
    "gym.info(memory_usage='deep')"
   ]
  },
  {
   "cell_type": "markdown",
   "metadata": {},
   "source": [
    "There're 14 columns and 4000 entries, 4 of them float and 10 - integer. There are no missing values   \n",
    "   \n",
    "Current dataset fields:   \n",
    "`gender` —    0 means female, 1 means male   \n",
    "`Near_Location` — whether the user lives or works in the neighborhood where the gym is located   \n",
    "`Partner` — whether the user is an employee of a partner company (the gym has partner companies whose employees get discounts; in those cases the gym stores information on customers' employers)   \n",
    "`Promo_friends` — whether the user originally signed up through a \"bring a friend\" offer (they used a friend's promo code when paying for their first membership)   \n",
    "`Phone` — whether the user provided their phone number   \n",
    "`Contract_period` — 1 month, 3 months, 6 months, or 1 year   \n",
    "`Group_visits` — whether the user takes part in group sessions   \n",
    "`Age` — age of the user    \n",
    "`Avg_additional_charges_total` — the total amount of money spent on other gym services: cafe, athletic goods, cosmetics, massages, etc.   \n",
    "`Month_to_end_contract` — the months remaining until the contract expires   \n",
    "`Lifetime` — the time (in months) since the customer first came to the gym   \n",
    "`Avg_class_frequency_total` — average frequency of visits per week over the customer's lifetime   \n",
    "`Avg_class_frequency_current_month` — average frequency of visits per week over the preceding month   \n",
    "`Churn` — the fact of churn for the month in question\n",
    "   \n",
    "Let's rename some columns   "
   ]
  },
  {
   "cell_type": "code",
   "execution_count": 4,
   "metadata": {},
   "outputs": [],
   "source": [
    "gym = gym.rename(columns={'gender':'Gender','Near_Location':'Near_location',\n",
    "                          'Avg_additional_charges_total':'Additional_charges_total'})"
   ]
  },
  {
   "cell_type": "code",
   "execution_count": 5,
   "metadata": {},
   "outputs": [
    {
     "data": {
      "text/html": [
       "<div>\n",
       "<style scoped>\n",
       "    .dataframe tbody tr th:only-of-type {\n",
       "        vertical-align: middle;\n",
       "    }\n",
       "\n",
       "    .dataframe tbody tr th {\n",
       "        vertical-align: top;\n",
       "    }\n",
       "\n",
       "    .dataframe thead th {\n",
       "        text-align: right;\n",
       "    }\n",
       "</style>\n",
       "<table border=\"1\" class=\"dataframe\">\n",
       "  <thead>\n",
       "    <tr style=\"text-align: right;\">\n",
       "      <th></th>\n",
       "      <th>Gender</th>\n",
       "      <th>Near_location</th>\n",
       "      <th>Partner</th>\n",
       "      <th>Promo_friends</th>\n",
       "      <th>Phone</th>\n",
       "      <th>Contract_period</th>\n",
       "      <th>Group_visits</th>\n",
       "      <th>Age</th>\n",
       "      <th>Additional_charges_total</th>\n",
       "      <th>Month_to_end_contract</th>\n",
       "      <th>Lifetime</th>\n",
       "      <th>Avg_class_frequency_total</th>\n",
       "      <th>Avg_class_frequency_current_month</th>\n",
       "      <th>Churn</th>\n",
       "    </tr>\n",
       "  </thead>\n",
       "  <tbody>\n",
       "    <tr>\n",
       "      <th>0</th>\n",
       "      <td>1</td>\n",
       "      <td>1</td>\n",
       "      <td>1</td>\n",
       "      <td>1</td>\n",
       "      <td>0</td>\n",
       "      <td>6</td>\n",
       "      <td>1</td>\n",
       "      <td>29</td>\n",
       "      <td>14.227470</td>\n",
       "      <td>5.0</td>\n",
       "      <td>3</td>\n",
       "      <td>0.020398</td>\n",
       "      <td>0.000000</td>\n",
       "      <td>0</td>\n",
       "    </tr>\n",
       "    <tr>\n",
       "      <th>1</th>\n",
       "      <td>0</td>\n",
       "      <td>1</td>\n",
       "      <td>0</td>\n",
       "      <td>0</td>\n",
       "      <td>1</td>\n",
       "      <td>12</td>\n",
       "      <td>1</td>\n",
       "      <td>31</td>\n",
       "      <td>113.202938</td>\n",
       "      <td>12.0</td>\n",
       "      <td>7</td>\n",
       "      <td>1.922936</td>\n",
       "      <td>1.910244</td>\n",
       "      <td>0</td>\n",
       "    </tr>\n",
       "    <tr>\n",
       "      <th>2</th>\n",
       "      <td>0</td>\n",
       "      <td>1</td>\n",
       "      <td>1</td>\n",
       "      <td>0</td>\n",
       "      <td>1</td>\n",
       "      <td>1</td>\n",
       "      <td>0</td>\n",
       "      <td>28</td>\n",
       "      <td>129.448479</td>\n",
       "      <td>1.0</td>\n",
       "      <td>2</td>\n",
       "      <td>1.859098</td>\n",
       "      <td>1.736502</td>\n",
       "      <td>0</td>\n",
       "    </tr>\n",
       "    <tr>\n",
       "      <th>3</th>\n",
       "      <td>0</td>\n",
       "      <td>1</td>\n",
       "      <td>1</td>\n",
       "      <td>1</td>\n",
       "      <td>1</td>\n",
       "      <td>12</td>\n",
       "      <td>1</td>\n",
       "      <td>33</td>\n",
       "      <td>62.669863</td>\n",
       "      <td>12.0</td>\n",
       "      <td>2</td>\n",
       "      <td>3.205633</td>\n",
       "      <td>3.357215</td>\n",
       "      <td>0</td>\n",
       "    </tr>\n",
       "    <tr>\n",
       "      <th>4</th>\n",
       "      <td>1</td>\n",
       "      <td>1</td>\n",
       "      <td>1</td>\n",
       "      <td>1</td>\n",
       "      <td>1</td>\n",
       "      <td>1</td>\n",
       "      <td>0</td>\n",
       "      <td>26</td>\n",
       "      <td>198.362265</td>\n",
       "      <td>1.0</td>\n",
       "      <td>3</td>\n",
       "      <td>1.113884</td>\n",
       "      <td>1.120078</td>\n",
       "      <td>0</td>\n",
       "    </tr>\n",
       "    <tr>\n",
       "      <th>5</th>\n",
       "      <td>1</td>\n",
       "      <td>1</td>\n",
       "      <td>0</td>\n",
       "      <td>0</td>\n",
       "      <td>1</td>\n",
       "      <td>1</td>\n",
       "      <td>1</td>\n",
       "      <td>34</td>\n",
       "      <td>450.743960</td>\n",
       "      <td>1.0</td>\n",
       "      <td>3</td>\n",
       "      <td>2.623477</td>\n",
       "      <td>2.637007</td>\n",
       "      <td>0</td>\n",
       "    </tr>\n",
       "    <tr>\n",
       "      <th>6</th>\n",
       "      <td>1</td>\n",
       "      <td>1</td>\n",
       "      <td>1</td>\n",
       "      <td>1</td>\n",
       "      <td>0</td>\n",
       "      <td>6</td>\n",
       "      <td>1</td>\n",
       "      <td>32</td>\n",
       "      <td>94.266389</td>\n",
       "      <td>6.0</td>\n",
       "      <td>2</td>\n",
       "      <td>1.138941</td>\n",
       "      <td>1.277242</td>\n",
       "      <td>0</td>\n",
       "    </tr>\n",
       "    <tr>\n",
       "      <th>7</th>\n",
       "      <td>0</td>\n",
       "      <td>1</td>\n",
       "      <td>0</td>\n",
       "      <td>0</td>\n",
       "      <td>1</td>\n",
       "      <td>1</td>\n",
       "      <td>0</td>\n",
       "      <td>30</td>\n",
       "      <td>217.786641</td>\n",
       "      <td>1.0</td>\n",
       "      <td>0</td>\n",
       "      <td>1.213502</td>\n",
       "      <td>1.049387</td>\n",
       "      <td>1</td>\n",
       "    </tr>\n",
       "    <tr>\n",
       "      <th>8</th>\n",
       "      <td>1</td>\n",
       "      <td>1</td>\n",
       "      <td>1</td>\n",
       "      <td>1</td>\n",
       "      <td>1</td>\n",
       "      <td>1</td>\n",
       "      <td>1</td>\n",
       "      <td>23</td>\n",
       "      <td>45.409909</td>\n",
       "      <td>1.0</td>\n",
       "      <td>1</td>\n",
       "      <td>1.106239</td>\n",
       "      <td>1.059333</td>\n",
       "      <td>0</td>\n",
       "    </tr>\n",
       "    <tr>\n",
       "      <th>9</th>\n",
       "      <td>0</td>\n",
       "      <td>1</td>\n",
       "      <td>0</td>\n",
       "      <td>0</td>\n",
       "      <td>1</td>\n",
       "      <td>1</td>\n",
       "      <td>0</td>\n",
       "      <td>31</td>\n",
       "      <td>65.310836</td>\n",
       "      <td>1.0</td>\n",
       "      <td>11</td>\n",
       "      <td>1.810852</td>\n",
       "      <td>1.951368</td>\n",
       "      <td>0</td>\n",
       "    </tr>\n",
       "  </tbody>\n",
       "</table>\n",
       "</div>"
      ],
      "text/plain": [
       "   Gender  Near_location  Partner  Promo_friends  Phone  Contract_period  \\\n",
       "0       1              1        1              1      0                6   \n",
       "1       0              1        0              0      1               12   \n",
       "2       0              1        1              0      1                1   \n",
       "3       0              1        1              1      1               12   \n",
       "4       1              1        1              1      1                1   \n",
       "5       1              1        0              0      1                1   \n",
       "6       1              1        1              1      0                6   \n",
       "7       0              1        0              0      1                1   \n",
       "8       1              1        1              1      1                1   \n",
       "9       0              1        0              0      1                1   \n",
       "\n",
       "   Group_visits  Age  Additional_charges_total  Month_to_end_contract  \\\n",
       "0             1   29                 14.227470                    5.0   \n",
       "1             1   31                113.202938                   12.0   \n",
       "2             0   28                129.448479                    1.0   \n",
       "3             1   33                 62.669863                   12.0   \n",
       "4             0   26                198.362265                    1.0   \n",
       "5             1   34                450.743960                    1.0   \n",
       "6             1   32                 94.266389                    6.0   \n",
       "7             0   30                217.786641                    1.0   \n",
       "8             1   23                 45.409909                    1.0   \n",
       "9             0   31                 65.310836                    1.0   \n",
       "\n",
       "   Lifetime  Avg_class_frequency_total  Avg_class_frequency_current_month  \\\n",
       "0         3                   0.020398                           0.000000   \n",
       "1         7                   1.922936                           1.910244   \n",
       "2         2                   1.859098                           1.736502   \n",
       "3         2                   3.205633                           3.357215   \n",
       "4         3                   1.113884                           1.120078   \n",
       "5         3                   2.623477                           2.637007   \n",
       "6         2                   1.138941                           1.277242   \n",
       "7         0                   1.213502                           1.049387   \n",
       "8         1                   1.106239                           1.059333   \n",
       "9        11                   1.810852                           1.951368   \n",
       "\n",
       "   Churn  \n",
       "0      0  \n",
       "1      0  \n",
       "2      0  \n",
       "3      0  \n",
       "4      0  \n",
       "5      0  \n",
       "6      0  \n",
       "7      1  \n",
       "8      0  \n",
       "9      0  "
      ]
     },
     "execution_count": 5,
     "metadata": {},
     "output_type": "execute_result"
    }
   ],
   "source": [
    "gym.head(10)"
   ]
  },
  {
   "cell_type": "code",
   "execution_count": 6,
   "metadata": {},
   "outputs": [
    {
     "data": {
      "text/html": [
       "<div>\n",
       "<style scoped>\n",
       "    .dataframe tbody tr th:only-of-type {\n",
       "        vertical-align: middle;\n",
       "    }\n",
       "\n",
       "    .dataframe tbody tr th {\n",
       "        vertical-align: top;\n",
       "    }\n",
       "\n",
       "    .dataframe thead th {\n",
       "        text-align: right;\n",
       "    }\n",
       "</style>\n",
       "<table border=\"1\" class=\"dataframe\">\n",
       "  <thead>\n",
       "    <tr style=\"text-align: right;\">\n",
       "      <th></th>\n",
       "      <th>Gender</th>\n",
       "      <th>Near_location</th>\n",
       "      <th>Partner</th>\n",
       "      <th>Promo_friends</th>\n",
       "      <th>Phone</th>\n",
       "      <th>Contract_period</th>\n",
       "      <th>Group_visits</th>\n",
       "      <th>Age</th>\n",
       "      <th>Additional_charges_total</th>\n",
       "      <th>Month_to_end_contract</th>\n",
       "      <th>Lifetime</th>\n",
       "      <th>Avg_class_frequency_total</th>\n",
       "      <th>Avg_class_frequency_current_month</th>\n",
       "      <th>Churn</th>\n",
       "    </tr>\n",
       "  </thead>\n",
       "  <tbody>\n",
       "    <tr>\n",
       "      <th>3990</th>\n",
       "      <td>1</td>\n",
       "      <td>0</td>\n",
       "      <td>1</td>\n",
       "      <td>0</td>\n",
       "      <td>1</td>\n",
       "      <td>12</td>\n",
       "      <td>0</td>\n",
       "      <td>33</td>\n",
       "      <td>31.771147</td>\n",
       "      <td>8.0</td>\n",
       "      <td>10</td>\n",
       "      <td>1.831577</td>\n",
       "      <td>1.924509</td>\n",
       "      <td>0</td>\n",
       "    </tr>\n",
       "    <tr>\n",
       "      <th>3991</th>\n",
       "      <td>1</td>\n",
       "      <td>0</td>\n",
       "      <td>1</td>\n",
       "      <td>0</td>\n",
       "      <td>1</td>\n",
       "      <td>6</td>\n",
       "      <td>0</td>\n",
       "      <td>33</td>\n",
       "      <td>69.301270</td>\n",
       "      <td>6.0</td>\n",
       "      <td>1</td>\n",
       "      <td>1.367289</td>\n",
       "      <td>1.435721</td>\n",
       "      <td>0</td>\n",
       "    </tr>\n",
       "    <tr>\n",
       "      <th>3992</th>\n",
       "      <td>0</td>\n",
       "      <td>1</td>\n",
       "      <td>1</td>\n",
       "      <td>1</td>\n",
       "      <td>1</td>\n",
       "      <td>12</td>\n",
       "      <td>0</td>\n",
       "      <td>31</td>\n",
       "      <td>223.102448</td>\n",
       "      <td>8.0</td>\n",
       "      <td>4</td>\n",
       "      <td>3.855916</td>\n",
       "      <td>3.797062</td>\n",
       "      <td>0</td>\n",
       "    </tr>\n",
       "    <tr>\n",
       "      <th>3993</th>\n",
       "      <td>0</td>\n",
       "      <td>1</td>\n",
       "      <td>1</td>\n",
       "      <td>0</td>\n",
       "      <td>1</td>\n",
       "      <td>1</td>\n",
       "      <td>0</td>\n",
       "      <td>33</td>\n",
       "      <td>231.778628</td>\n",
       "      <td>1.0</td>\n",
       "      <td>3</td>\n",
       "      <td>1.418791</td>\n",
       "      <td>1.450442</td>\n",
       "      <td>0</td>\n",
       "    </tr>\n",
       "    <tr>\n",
       "      <th>3994</th>\n",
       "      <td>1</td>\n",
       "      <td>1</td>\n",
       "      <td>0</td>\n",
       "      <td>0</td>\n",
       "      <td>1</td>\n",
       "      <td>1</td>\n",
       "      <td>0</td>\n",
       "      <td>26</td>\n",
       "      <td>31.066721</td>\n",
       "      <td>1.0</td>\n",
       "      <td>1</td>\n",
       "      <td>1.157451</td>\n",
       "      <td>0.269597</td>\n",
       "      <td>1</td>\n",
       "    </tr>\n",
       "    <tr>\n",
       "      <th>3995</th>\n",
       "      <td>1</td>\n",
       "      <td>1</td>\n",
       "      <td>1</td>\n",
       "      <td>0</td>\n",
       "      <td>1</td>\n",
       "      <td>12</td>\n",
       "      <td>0</td>\n",
       "      <td>33</td>\n",
       "      <td>2.406023</td>\n",
       "      <td>12.0</td>\n",
       "      <td>8</td>\n",
       "      <td>2.284497</td>\n",
       "      <td>2.349070</td>\n",
       "      <td>0</td>\n",
       "    </tr>\n",
       "    <tr>\n",
       "      <th>3996</th>\n",
       "      <td>0</td>\n",
       "      <td>1</td>\n",
       "      <td>0</td>\n",
       "      <td>0</td>\n",
       "      <td>1</td>\n",
       "      <td>1</td>\n",
       "      <td>1</td>\n",
       "      <td>29</td>\n",
       "      <td>68.883764</td>\n",
       "      <td>1.0</td>\n",
       "      <td>1</td>\n",
       "      <td>1.277168</td>\n",
       "      <td>0.292859</td>\n",
       "      <td>1</td>\n",
       "    </tr>\n",
       "    <tr>\n",
       "      <th>3997</th>\n",
       "      <td>1</td>\n",
       "      <td>1</td>\n",
       "      <td>1</td>\n",
       "      <td>1</td>\n",
       "      <td>1</td>\n",
       "      <td>12</td>\n",
       "      <td>0</td>\n",
       "      <td>28</td>\n",
       "      <td>78.250542</td>\n",
       "      <td>11.0</td>\n",
       "      <td>2</td>\n",
       "      <td>2.786146</td>\n",
       "      <td>2.831439</td>\n",
       "      <td>0</td>\n",
       "    </tr>\n",
       "    <tr>\n",
       "      <th>3998</th>\n",
       "      <td>0</td>\n",
       "      <td>1</td>\n",
       "      <td>1</td>\n",
       "      <td>1</td>\n",
       "      <td>1</td>\n",
       "      <td>6</td>\n",
       "      <td>0</td>\n",
       "      <td>32</td>\n",
       "      <td>61.912657</td>\n",
       "      <td>5.0</td>\n",
       "      <td>3</td>\n",
       "      <td>1.630108</td>\n",
       "      <td>1.596237</td>\n",
       "      <td>0</td>\n",
       "    </tr>\n",
       "    <tr>\n",
       "      <th>3999</th>\n",
       "      <td>1</td>\n",
       "      <td>0</td>\n",
       "      <td>1</td>\n",
       "      <td>0</td>\n",
       "      <td>0</td>\n",
       "      <td>12</td>\n",
       "      <td>1</td>\n",
       "      <td>30</td>\n",
       "      <td>178.861814</td>\n",
       "      <td>12.0</td>\n",
       "      <td>1</td>\n",
       "      <td>1.101832</td>\n",
       "      <td>1.035270</td>\n",
       "      <td>0</td>\n",
       "    </tr>\n",
       "  </tbody>\n",
       "</table>\n",
       "</div>"
      ],
      "text/plain": [
       "      Gender  Near_location  Partner  Promo_friends  Phone  Contract_period  \\\n",
       "3990       1              0        1              0      1               12   \n",
       "3991       1              0        1              0      1                6   \n",
       "3992       0              1        1              1      1               12   \n",
       "3993       0              1        1              0      1                1   \n",
       "3994       1              1        0              0      1                1   \n",
       "3995       1              1        1              0      1               12   \n",
       "3996       0              1        0              0      1                1   \n",
       "3997       1              1        1              1      1               12   \n",
       "3998       0              1        1              1      1                6   \n",
       "3999       1              0        1              0      0               12   \n",
       "\n",
       "      Group_visits  Age  Additional_charges_total  Month_to_end_contract  \\\n",
       "3990             0   33                 31.771147                    8.0   \n",
       "3991             0   33                 69.301270                    6.0   \n",
       "3992             0   31                223.102448                    8.0   \n",
       "3993             0   33                231.778628                    1.0   \n",
       "3994             0   26                 31.066721                    1.0   \n",
       "3995             0   33                  2.406023                   12.0   \n",
       "3996             1   29                 68.883764                    1.0   \n",
       "3997             0   28                 78.250542                   11.0   \n",
       "3998             0   32                 61.912657                    5.0   \n",
       "3999             1   30                178.861814                   12.0   \n",
       "\n",
       "      Lifetime  Avg_class_frequency_total  Avg_class_frequency_current_month  \\\n",
       "3990        10                   1.831577                           1.924509   \n",
       "3991         1                   1.367289                           1.435721   \n",
       "3992         4                   3.855916                           3.797062   \n",
       "3993         3                   1.418791                           1.450442   \n",
       "3994         1                   1.157451                           0.269597   \n",
       "3995         8                   2.284497                           2.349070   \n",
       "3996         1                   1.277168                           0.292859   \n",
       "3997         2                   2.786146                           2.831439   \n",
       "3998         3                   1.630108                           1.596237   \n",
       "3999         1                   1.101832                           1.035270   \n",
       "\n",
       "      Churn  \n",
       "3990      0  \n",
       "3991      0  \n",
       "3992      0  \n",
       "3993      0  \n",
       "3994      1  \n",
       "3995      0  \n",
       "3996      1  \n",
       "3997      0  \n",
       "3998      0  \n",
       "3999      0  "
      ]
     },
     "execution_count": 6,
     "metadata": {},
     "output_type": "execute_result"
    }
   ],
   "source": [
    "gym.tail(10)"
   ]
  },
  {
   "cell_type": "code",
   "execution_count": 7,
   "metadata": {},
   "outputs": [
    {
     "data": {
      "text/html": [
       "<div>\n",
       "<style scoped>\n",
       "    .dataframe tbody tr th:only-of-type {\n",
       "        vertical-align: middle;\n",
       "    }\n",
       "\n",
       "    .dataframe tbody tr th {\n",
       "        vertical-align: top;\n",
       "    }\n",
       "\n",
       "    .dataframe thead th {\n",
       "        text-align: right;\n",
       "    }\n",
       "</style>\n",
       "<table border=\"1\" class=\"dataframe\">\n",
       "  <thead>\n",
       "    <tr style=\"text-align: right;\">\n",
       "      <th></th>\n",
       "      <th>Gender</th>\n",
       "      <th>Near_location</th>\n",
       "      <th>Partner</th>\n",
       "      <th>Promo_friends</th>\n",
       "      <th>Phone</th>\n",
       "      <th>Contract_period</th>\n",
       "      <th>Group_visits</th>\n",
       "      <th>Age</th>\n",
       "      <th>Additional_charges_total</th>\n",
       "      <th>Month_to_end_contract</th>\n",
       "      <th>Lifetime</th>\n",
       "      <th>Avg_class_frequency_total</th>\n",
       "      <th>Avg_class_frequency_current_month</th>\n",
       "      <th>Churn</th>\n",
       "    </tr>\n",
       "  </thead>\n",
       "  <tbody>\n",
       "    <tr>\n",
       "      <th>3321</th>\n",
       "      <td>0</td>\n",
       "      <td>1</td>\n",
       "      <td>1</td>\n",
       "      <td>0</td>\n",
       "      <td>1</td>\n",
       "      <td>1</td>\n",
       "      <td>1</td>\n",
       "      <td>32</td>\n",
       "      <td>287.648668</td>\n",
       "      <td>1.0</td>\n",
       "      <td>12</td>\n",
       "      <td>2.441094</td>\n",
       "      <td>2.471259</td>\n",
       "      <td>0</td>\n",
       "    </tr>\n",
       "    <tr>\n",
       "      <th>3913</th>\n",
       "      <td>1</td>\n",
       "      <td>1</td>\n",
       "      <td>0</td>\n",
       "      <td>0</td>\n",
       "      <td>1</td>\n",
       "      <td>1</td>\n",
       "      <td>1</td>\n",
       "      <td>34</td>\n",
       "      <td>148.579384</td>\n",
       "      <td>1.0</td>\n",
       "      <td>2</td>\n",
       "      <td>2.972774</td>\n",
       "      <td>3.096353</td>\n",
       "      <td>0</td>\n",
       "    </tr>\n",
       "    <tr>\n",
       "      <th>2105</th>\n",
       "      <td>0</td>\n",
       "      <td>1</td>\n",
       "      <td>0</td>\n",
       "      <td>0</td>\n",
       "      <td>1</td>\n",
       "      <td>1</td>\n",
       "      <td>0</td>\n",
       "      <td>34</td>\n",
       "      <td>58.408136</td>\n",
       "      <td>1.0</td>\n",
       "      <td>4</td>\n",
       "      <td>2.315428</td>\n",
       "      <td>2.214284</td>\n",
       "      <td>0</td>\n",
       "    </tr>\n",
       "    <tr>\n",
       "      <th>3911</th>\n",
       "      <td>0</td>\n",
       "      <td>1</td>\n",
       "      <td>0</td>\n",
       "      <td>0</td>\n",
       "      <td>1</td>\n",
       "      <td>6</td>\n",
       "      <td>1</td>\n",
       "      <td>24</td>\n",
       "      <td>134.766193</td>\n",
       "      <td>6.0</td>\n",
       "      <td>0</td>\n",
       "      <td>2.448758</td>\n",
       "      <td>2.139388</td>\n",
       "      <td>1</td>\n",
       "    </tr>\n",
       "    <tr>\n",
       "      <th>2882</th>\n",
       "      <td>0</td>\n",
       "      <td>1</td>\n",
       "      <td>0</td>\n",
       "      <td>0</td>\n",
       "      <td>1</td>\n",
       "      <td>1</td>\n",
       "      <td>1</td>\n",
       "      <td>32</td>\n",
       "      <td>74.869386</td>\n",
       "      <td>1.0</td>\n",
       "      <td>1</td>\n",
       "      <td>2.970161</td>\n",
       "      <td>2.931549</td>\n",
       "      <td>0</td>\n",
       "    </tr>\n",
       "    <tr>\n",
       "      <th>736</th>\n",
       "      <td>1</td>\n",
       "      <td>1</td>\n",
       "      <td>1</td>\n",
       "      <td>1</td>\n",
       "      <td>1</td>\n",
       "      <td>1</td>\n",
       "      <td>0</td>\n",
       "      <td>28</td>\n",
       "      <td>158.872713</td>\n",
       "      <td>1.0</td>\n",
       "      <td>2</td>\n",
       "      <td>0.825241</td>\n",
       "      <td>0.749740</td>\n",
       "      <td>0</td>\n",
       "    </tr>\n",
       "    <tr>\n",
       "      <th>2788</th>\n",
       "      <td>0</td>\n",
       "      <td>1</td>\n",
       "      <td>1</td>\n",
       "      <td>1</td>\n",
       "      <td>1</td>\n",
       "      <td>6</td>\n",
       "      <td>0</td>\n",
       "      <td>23</td>\n",
       "      <td>77.795506</td>\n",
       "      <td>6.0</td>\n",
       "      <td>0</td>\n",
       "      <td>1.795015</td>\n",
       "      <td>1.487449</td>\n",
       "      <td>1</td>\n",
       "    </tr>\n",
       "    <tr>\n",
       "      <th>12</th>\n",
       "      <td>0</td>\n",
       "      <td>1</td>\n",
       "      <td>1</td>\n",
       "      <td>1</td>\n",
       "      <td>1</td>\n",
       "      <td>1</td>\n",
       "      <td>1</td>\n",
       "      <td>33</td>\n",
       "      <td>148.418053</td>\n",
       "      <td>1.0</td>\n",
       "      <td>4</td>\n",
       "      <td>3.368606</td>\n",
       "      <td>3.391853</td>\n",
       "      <td>0</td>\n",
       "    </tr>\n",
       "    <tr>\n",
       "      <th>99</th>\n",
       "      <td>1</td>\n",
       "      <td>1</td>\n",
       "      <td>0</td>\n",
       "      <td>0</td>\n",
       "      <td>1</td>\n",
       "      <td>1</td>\n",
       "      <td>0</td>\n",
       "      <td>26</td>\n",
       "      <td>31.121603</td>\n",
       "      <td>1.0</td>\n",
       "      <td>3</td>\n",
       "      <td>1.746991</td>\n",
       "      <td>1.023474</td>\n",
       "      <td>1</td>\n",
       "    </tr>\n",
       "    <tr>\n",
       "      <th>3293</th>\n",
       "      <td>1</td>\n",
       "      <td>1</td>\n",
       "      <td>0</td>\n",
       "      <td>0</td>\n",
       "      <td>1</td>\n",
       "      <td>1</td>\n",
       "      <td>1</td>\n",
       "      <td>31</td>\n",
       "      <td>225.744906</td>\n",
       "      <td>1.0</td>\n",
       "      <td>4</td>\n",
       "      <td>1.562964</td>\n",
       "      <td>1.524219</td>\n",
       "      <td>0</td>\n",
       "    </tr>\n",
       "  </tbody>\n",
       "</table>\n",
       "</div>"
      ],
      "text/plain": [
       "      Gender  Near_location  Partner  Promo_friends  Phone  Contract_period  \\\n",
       "3321       0              1        1              0      1                1   \n",
       "3913       1              1        0              0      1                1   \n",
       "2105       0              1        0              0      1                1   \n",
       "3911       0              1        0              0      1                6   \n",
       "2882       0              1        0              0      1                1   \n",
       "736        1              1        1              1      1                1   \n",
       "2788       0              1        1              1      1                6   \n",
       "12         0              1        1              1      1                1   \n",
       "99         1              1        0              0      1                1   \n",
       "3293       1              1        0              0      1                1   \n",
       "\n",
       "      Group_visits  Age  Additional_charges_total  Month_to_end_contract  \\\n",
       "3321             1   32                287.648668                    1.0   \n",
       "3913             1   34                148.579384                    1.0   \n",
       "2105             0   34                 58.408136                    1.0   \n",
       "3911             1   24                134.766193                    6.0   \n",
       "2882             1   32                 74.869386                    1.0   \n",
       "736              0   28                158.872713                    1.0   \n",
       "2788             0   23                 77.795506                    6.0   \n",
       "12               1   33                148.418053                    1.0   \n",
       "99               0   26                 31.121603                    1.0   \n",
       "3293             1   31                225.744906                    1.0   \n",
       "\n",
       "      Lifetime  Avg_class_frequency_total  Avg_class_frequency_current_month  \\\n",
       "3321        12                   2.441094                           2.471259   \n",
       "3913         2                   2.972774                           3.096353   \n",
       "2105         4                   2.315428                           2.214284   \n",
       "3911         0                   2.448758                           2.139388   \n",
       "2882         1                   2.970161                           2.931549   \n",
       "736          2                   0.825241                           0.749740   \n",
       "2788         0                   1.795015                           1.487449   \n",
       "12           4                   3.368606                           3.391853   \n",
       "99           3                   1.746991                           1.023474   \n",
       "3293         4                   1.562964                           1.524219   \n",
       "\n",
       "      Churn  \n",
       "3321      0  \n",
       "3913      0  \n",
       "2105      0  \n",
       "3911      1  \n",
       "2882      0  \n",
       "736       0  \n",
       "2788      1  \n",
       "12        0  \n",
       "99        1  \n",
       "3293      0  "
      ]
     },
     "execution_count": 7,
     "metadata": {},
     "output_type": "execute_result"
    }
   ],
   "source": [
    "gym.sample(10)"
   ]
  },
  {
   "cell_type": "markdown",
   "metadata": {},
   "source": [
    "The data was loaded and opened successfully. The original table has 14 columns and 4000 rows and contains information about the clients of the gym chain Model Fitness "
   ]
  },
  {
   "cell_type": "markdown",
   "metadata": {},
   "source": [
    "[To the Table of Contents](#go_up)   \n",
    "## Step 2. <a class=\"anchor\" id=\"step_2\"></a>Exploratory data analysis (EDA)\n",
    "One of the most common problems gyms and other services face is customer churn. How do they know if a customer is no longer with them? For a gym, it makes sense to say a customer has left if they don't come for a month. Of course, it's possible they're in Cancun and will resume their visits when they return, but's that's not a typical case. "
   ]
  },
  {
   "cell_type": "code",
   "execution_count": 8,
   "metadata": {},
   "outputs": [
    {
     "name": "stdout",
     "output_type": "stream",
     "text": [
      "The ratio between classes:\n",
      "        Count       %\n",
      "Churn               \n",
      "0       2939  73.475\n",
      "1       1061  26.525\n"
     ]
    }
   ],
   "source": [
    "print('The ratio between classes:\\n', \\\n",
    "      gym.groupby('Churn')['Gender'].agg({lambda x: 100*x.count()/len(gym),'count'}). \\\n",
    "      rename(columns={'<lambda_0>':'%','count':'Count'}))"
   ]
  },
  {
   "cell_type": "markdown",
   "metadata": {},
   "source": [
    "According to the assumption, I will find all users who are not listed as `Churn`, but did not appear during the current month"
   ]
  },
  {
   "cell_type": "code",
   "execution_count": 9,
   "metadata": {},
   "outputs": [
    {
     "data": {
      "text/plain": [
       "47"
      ]
     },
     "execution_count": 9,
     "metadata": {},
     "output_type": "execute_result"
    }
   ],
   "source": [
    "gym.query('Avg_class_frequency_current_month == 0 and Churn == 0').Gender.count()"
   ]
  },
  {
   "cell_type": "markdown",
   "metadata": {},
   "source": [
    "47 users have not visited gym during the last month, and therefore I will consider them to have left and change their `Churn` status to 1"
   ]
  },
  {
   "cell_type": "code",
   "execution_count": 10,
   "metadata": {},
   "outputs": [
    {
     "name": "stdout",
     "output_type": "stream",
     "text": [
      "The ratio between classes:\n",
      "        Count     %\n",
      "Churn             \n",
      "0       2892  72.3\n",
      "1       1108  27.7\n"
     ]
    }
   ],
   "source": [
    "gym['Churn'] = gym['Churn'].where(gym['Avg_class_frequency_current_month'] != 0, 1)\n",
    "\n",
    "print('The ratio between classes:\\n', \\\n",
    "      gym.groupby('Churn')['Gender'].agg({lambda x: 100*x.count()/len(gym),'count'}). \\\n",
    "      rename(columns={'<lambda_0>':'%','count':'Count'}))"
   ]
  },
  {
   "cell_type": "markdown",
   "metadata": {},
   "source": [
    "As a result, the ratio of those who stayed and those who left slightly changed towards those who left.    \n",
    "In addition in our future machine learning models, the value 0 of the `Avg_class_frequency_current_month` feature will be associated with the value 1 of the target variable `Churn`"
   ]
  },
  {
   "cell_type": "code",
   "execution_count": 11,
   "metadata": {},
   "outputs": [
    {
     "data": {
      "text/plain": [
       "29"
      ]
     },
     "execution_count": 11,
     "metadata": {},
     "output_type": "execute_result"
    }
   ],
   "source": [
    "gym[(gym['Avg_class_frequency_total'] == 0)&(gym['Avg_class_frequency_current_month'] != 0)].Gender.count()"
   ]
  },
  {
   "cell_type": "markdown",
   "metadata": {},
   "source": [
    "There are 29 more users with feature `Avg_class_frequency_total` equal to 0, and feature `Avg_class_frequency_current_month` not equal to 0.    \n",
    "If this is not an error, we can assume that `Avg_class_frequency_total` does not include data on `Avg_class_frequency_current_month`. But since these users visited the gym during the current month, we will count them as those who stayed."
   ]
  },
  {
   "cell_type": "markdown",
   "metadata": {},
   "source": [
    "[To the Table of Contents](#go_up)   \n",
    "### 2.1.<a class=\"anchor\" id=\"step_2_1\"></a> Missing features. Mean values and standart deviation   \n",
    "Look at the dataset: does it contain any missing features? Study the mean values and standard deviation (use the describe() method)"
   ]
  },
  {
   "cell_type": "code",
   "execution_count": 12,
   "metadata": {},
   "outputs": [
    {
     "data": {
      "text/html": [
       "<div>\n",
       "<style scoped>\n",
       "    .dataframe tbody tr th:only-of-type {\n",
       "        vertical-align: middle;\n",
       "    }\n",
       "\n",
       "    .dataframe tbody tr th {\n",
       "        vertical-align: top;\n",
       "    }\n",
       "\n",
       "    .dataframe thead th {\n",
       "        text-align: right;\n",
       "    }\n",
       "</style>\n",
       "<table border=\"1\" class=\"dataframe\">\n",
       "  <thead>\n",
       "    <tr style=\"text-align: right;\">\n",
       "      <th></th>\n",
       "      <th>Gender</th>\n",
       "      <th>Near_location</th>\n",
       "      <th>Partner</th>\n",
       "      <th>Promo_friends</th>\n",
       "      <th>Phone</th>\n",
       "      <th>Contract_period</th>\n",
       "      <th>Group_visits</th>\n",
       "      <th>Age</th>\n",
       "      <th>Additional_charges_total</th>\n",
       "    </tr>\n",
       "  </thead>\n",
       "  <tbody>\n",
       "    <tr>\n",
       "      <th>count</th>\n",
       "      <td>4000.000000</td>\n",
       "      <td>4000.000000</td>\n",
       "      <td>4000.000000</td>\n",
       "      <td>4000.000000</td>\n",
       "      <td>4000.000000</td>\n",
       "      <td>4000.000000</td>\n",
       "      <td>4000.000000</td>\n",
       "      <td>4000.000000</td>\n",
       "      <td>4000.000000</td>\n",
       "    </tr>\n",
       "    <tr>\n",
       "      <th>mean</th>\n",
       "      <td>0.510250</td>\n",
       "      <td>0.845250</td>\n",
       "      <td>0.486750</td>\n",
       "      <td>0.308500</td>\n",
       "      <td>0.903500</td>\n",
       "      <td>4.681250</td>\n",
       "      <td>0.412250</td>\n",
       "      <td>29.184250</td>\n",
       "      <td>146.943728</td>\n",
       "    </tr>\n",
       "    <tr>\n",
       "      <th>std</th>\n",
       "      <td>0.499957</td>\n",
       "      <td>0.361711</td>\n",
       "      <td>0.499887</td>\n",
       "      <td>0.461932</td>\n",
       "      <td>0.295313</td>\n",
       "      <td>4.549706</td>\n",
       "      <td>0.492301</td>\n",
       "      <td>3.258367</td>\n",
       "      <td>96.355602</td>\n",
       "    </tr>\n",
       "    <tr>\n",
       "      <th>min</th>\n",
       "      <td>0.000000</td>\n",
       "      <td>0.000000</td>\n",
       "      <td>0.000000</td>\n",
       "      <td>0.000000</td>\n",
       "      <td>0.000000</td>\n",
       "      <td>1.000000</td>\n",
       "      <td>0.000000</td>\n",
       "      <td>18.000000</td>\n",
       "      <td>0.148205</td>\n",
       "    </tr>\n",
       "    <tr>\n",
       "      <th>25%</th>\n",
       "      <td>0.000000</td>\n",
       "      <td>1.000000</td>\n",
       "      <td>0.000000</td>\n",
       "      <td>0.000000</td>\n",
       "      <td>1.000000</td>\n",
       "      <td>1.000000</td>\n",
       "      <td>0.000000</td>\n",
       "      <td>27.000000</td>\n",
       "      <td>68.868830</td>\n",
       "    </tr>\n",
       "    <tr>\n",
       "      <th>50%</th>\n",
       "      <td>1.000000</td>\n",
       "      <td>1.000000</td>\n",
       "      <td>0.000000</td>\n",
       "      <td>0.000000</td>\n",
       "      <td>1.000000</td>\n",
       "      <td>1.000000</td>\n",
       "      <td>0.000000</td>\n",
       "      <td>29.000000</td>\n",
       "      <td>136.220159</td>\n",
       "    </tr>\n",
       "    <tr>\n",
       "      <th>75%</th>\n",
       "      <td>1.000000</td>\n",
       "      <td>1.000000</td>\n",
       "      <td>1.000000</td>\n",
       "      <td>1.000000</td>\n",
       "      <td>1.000000</td>\n",
       "      <td>6.000000</td>\n",
       "      <td>1.000000</td>\n",
       "      <td>31.000000</td>\n",
       "      <td>210.949625</td>\n",
       "    </tr>\n",
       "    <tr>\n",
       "      <th>max</th>\n",
       "      <td>1.000000</td>\n",
       "      <td>1.000000</td>\n",
       "      <td>1.000000</td>\n",
       "      <td>1.000000</td>\n",
       "      <td>1.000000</td>\n",
       "      <td>12.000000</td>\n",
       "      <td>1.000000</td>\n",
       "      <td>41.000000</td>\n",
       "      <td>552.590740</td>\n",
       "    </tr>\n",
       "  </tbody>\n",
       "</table>\n",
       "</div>"
      ],
      "text/plain": [
       "            Gender  Near_location      Partner  Promo_friends        Phone  \\\n",
       "count  4000.000000    4000.000000  4000.000000    4000.000000  4000.000000   \n",
       "mean      0.510250       0.845250     0.486750       0.308500     0.903500   \n",
       "std       0.499957       0.361711     0.499887       0.461932     0.295313   \n",
       "min       0.000000       0.000000     0.000000       0.000000     0.000000   \n",
       "25%       0.000000       1.000000     0.000000       0.000000     1.000000   \n",
       "50%       1.000000       1.000000     0.000000       0.000000     1.000000   \n",
       "75%       1.000000       1.000000     1.000000       1.000000     1.000000   \n",
       "max       1.000000       1.000000     1.000000       1.000000     1.000000   \n",
       "\n",
       "       Contract_period  Group_visits          Age  Additional_charges_total  \n",
       "count      4000.000000   4000.000000  4000.000000               4000.000000  \n",
       "mean          4.681250      0.412250    29.184250                146.943728  \n",
       "std           4.549706      0.492301     3.258367                 96.355602  \n",
       "min           1.000000      0.000000    18.000000                  0.148205  \n",
       "25%           1.000000      0.000000    27.000000                 68.868830  \n",
       "50%           1.000000      0.000000    29.000000                136.220159  \n",
       "75%           6.000000      1.000000    31.000000                210.949625  \n",
       "max          12.000000      1.000000    41.000000                552.590740  "
      ]
     },
     "execution_count": 12,
     "metadata": {},
     "output_type": "execute_result"
    }
   ],
   "source": [
    "gym.describe().iloc[:,:9]"
   ]
  },
  {
   "cell_type": "code",
   "execution_count": 13,
   "metadata": {},
   "outputs": [
    {
     "data": {
      "text/html": [
       "<div>\n",
       "<style scoped>\n",
       "    .dataframe tbody tr th:only-of-type {\n",
       "        vertical-align: middle;\n",
       "    }\n",
       "\n",
       "    .dataframe tbody tr th {\n",
       "        vertical-align: top;\n",
       "    }\n",
       "\n",
       "    .dataframe thead th {\n",
       "        text-align: right;\n",
       "    }\n",
       "</style>\n",
       "<table border=\"1\" class=\"dataframe\">\n",
       "  <thead>\n",
       "    <tr style=\"text-align: right;\">\n",
       "      <th></th>\n",
       "      <th>Month_to_end_contract</th>\n",
       "      <th>Lifetime</th>\n",
       "      <th>Avg_class_frequency_total</th>\n",
       "      <th>Avg_class_frequency_current_month</th>\n",
       "      <th>Churn</th>\n",
       "    </tr>\n",
       "  </thead>\n",
       "  <tbody>\n",
       "    <tr>\n",
       "      <th>count</th>\n",
       "      <td>4000.000000</td>\n",
       "      <td>4000.000000</td>\n",
       "      <td>4000.000000</td>\n",
       "      <td>4000.000000</td>\n",
       "      <td>4000.000000</td>\n",
       "    </tr>\n",
       "    <tr>\n",
       "      <th>mean</th>\n",
       "      <td>4.322750</td>\n",
       "      <td>3.724750</td>\n",
       "      <td>1.879020</td>\n",
       "      <td>1.767052</td>\n",
       "      <td>0.277000</td>\n",
       "    </tr>\n",
       "    <tr>\n",
       "      <th>std</th>\n",
       "      <td>4.191297</td>\n",
       "      <td>3.749267</td>\n",
       "      <td>0.972245</td>\n",
       "      <td>1.052906</td>\n",
       "      <td>0.447572</td>\n",
       "    </tr>\n",
       "    <tr>\n",
       "      <th>min</th>\n",
       "      <td>1.000000</td>\n",
       "      <td>0.000000</td>\n",
       "      <td>0.000000</td>\n",
       "      <td>0.000000</td>\n",
       "      <td>0.000000</td>\n",
       "    </tr>\n",
       "    <tr>\n",
       "      <th>25%</th>\n",
       "      <td>1.000000</td>\n",
       "      <td>1.000000</td>\n",
       "      <td>1.180875</td>\n",
       "      <td>0.963003</td>\n",
       "      <td>0.000000</td>\n",
       "    </tr>\n",
       "    <tr>\n",
       "      <th>50%</th>\n",
       "      <td>1.000000</td>\n",
       "      <td>3.000000</td>\n",
       "      <td>1.832768</td>\n",
       "      <td>1.719574</td>\n",
       "      <td>0.000000</td>\n",
       "    </tr>\n",
       "    <tr>\n",
       "      <th>75%</th>\n",
       "      <td>6.000000</td>\n",
       "      <td>5.000000</td>\n",
       "      <td>2.536078</td>\n",
       "      <td>2.510336</td>\n",
       "      <td>1.000000</td>\n",
       "    </tr>\n",
       "    <tr>\n",
       "      <th>max</th>\n",
       "      <td>12.000000</td>\n",
       "      <td>31.000000</td>\n",
       "      <td>6.023668</td>\n",
       "      <td>6.146783</td>\n",
       "      <td>1.000000</td>\n",
       "    </tr>\n",
       "  </tbody>\n",
       "</table>\n",
       "</div>"
      ],
      "text/plain": [
       "       Month_to_end_contract     Lifetime  Avg_class_frequency_total  \\\n",
       "count            4000.000000  4000.000000                4000.000000   \n",
       "mean                4.322750     3.724750                   1.879020   \n",
       "std                 4.191297     3.749267                   0.972245   \n",
       "min                 1.000000     0.000000                   0.000000   \n",
       "25%                 1.000000     1.000000                   1.180875   \n",
       "50%                 1.000000     3.000000                   1.832768   \n",
       "75%                 6.000000     5.000000                   2.536078   \n",
       "max                12.000000    31.000000                   6.023668   \n",
       "\n",
       "       Avg_class_frequency_current_month        Churn  \n",
       "count                        4000.000000  4000.000000  \n",
       "mean                            1.767052     0.277000  \n",
       "std                             1.052906     0.447572  \n",
       "min                             0.000000     0.000000  \n",
       "25%                             0.963003     0.000000  \n",
       "50%                             1.719574     0.000000  \n",
       "75%                             2.510336     1.000000  \n",
       "max                             6.146783     1.000000  "
      ]
     },
     "execution_count": 13,
     "metadata": {},
     "output_type": "execute_result"
    }
   ],
   "source": [
    "gym.describe().iloc[:,9:]"
   ]
  },
  {
   "cell_type": "markdown",
   "metadata": {},
   "source": [
    "We have exactly half - 7 columns with binary values (`Gender`, `Near_location`, `Partner`, `Promo_friends`, `Phone`, `Group_visits`, `Churn`). The average value of a binary feature is equal to the frequency of the value 1. It is obvious that the standard deviation reaches a maximum when both binary values are equally probable.   \n",
    "Therefore, features `Gender` and `Partner` -  with mean value 0.51 and 0.48 respectively - correspond to an almost equiprobable distribution, feature `Near_location` has an average value of 0.84, features `Promo_friends` - 0.3, `Phone` - 0.9, `Group_visits` - 0.41 and `Churn`- 0.27.   \n",
    "For features `Contract_period`, `Month_to_end_contract`, `Lifetime` the average value is practically equal to standard deviation, which means that the distribution is positively skew.    \n",
    "Feature `Age` has an almost normal distribution.    \n",
    "The last 3 features - `Additional_charges_total`, `Avg_class_frequency_total` and `Avg_class_frequency_current_month` - in these cases, the mean is 1.5-2 times higher than the standard deviation."
   ]
  },
  {
   "cell_type": "markdown",
   "metadata": {},
   "source": [
    "[To the Table of Contents](#go_up)   \n",
    "### 2.2.<a class=\"anchor\" id=\"step_2_2\"></a> Mean feature values for two groups  \n",
    "Look at the mean feature values in two groups: for those who left (churn) and for those who stayed (use the groupby() method)"
   ]
  },
  {
   "cell_type": "code",
   "execution_count": 14,
   "metadata": {},
   "outputs": [
    {
     "data": {
      "text/html": [
       "<div>\n",
       "<style scoped>\n",
       "    .dataframe tbody tr th:only-of-type {\n",
       "        vertical-align: middle;\n",
       "    }\n",
       "\n",
       "    .dataframe tbody tr th {\n",
       "        vertical-align: top;\n",
       "    }\n",
       "\n",
       "    .dataframe thead th {\n",
       "        text-align: right;\n",
       "    }\n",
       "</style>\n",
       "<table border=\"1\" class=\"dataframe\">\n",
       "  <thead>\n",
       "    <tr style=\"text-align: right;\">\n",
       "      <th></th>\n",
       "      <th>Gender</th>\n",
       "      <th>Near_location</th>\n",
       "      <th>Partner</th>\n",
       "      <th>Promo_friends</th>\n",
       "      <th>Phone</th>\n",
       "      <th>Contract_period</th>\n",
       "      <th>Group_visits</th>\n",
       "      <th>Age</th>\n",
       "      <th>Additional_charges_total</th>\n",
       "    </tr>\n",
       "    <tr>\n",
       "      <th>Churn</th>\n",
       "      <th></th>\n",
       "      <th></th>\n",
       "      <th></th>\n",
       "      <th></th>\n",
       "      <th></th>\n",
       "      <th></th>\n",
       "      <th></th>\n",
       "      <th></th>\n",
       "      <th></th>\n",
       "    </tr>\n",
       "  </thead>\n",
       "  <tbody>\n",
       "    <tr>\n",
       "      <th>0</th>\n",
       "      <td>0.509682</td>\n",
       "      <td>0.872752</td>\n",
       "      <td>0.534578</td>\n",
       "      <td>0.353734</td>\n",
       "      <td>0.904564</td>\n",
       "      <td>5.745159</td>\n",
       "      <td>0.464039</td>\n",
       "      <td>29.98686</td>\n",
       "      <td>158.314165</td>\n",
       "    </tr>\n",
       "    <tr>\n",
       "      <th>1</th>\n",
       "      <td>0.511733</td>\n",
       "      <td>0.773466</td>\n",
       "      <td>0.361913</td>\n",
       "      <td>0.190433</td>\n",
       "      <td>0.900722</td>\n",
       "      <td>1.904332</td>\n",
       "      <td>0.277076</td>\n",
       "      <td>27.08935</td>\n",
       "      <td>117.265656</td>\n",
       "    </tr>\n",
       "  </tbody>\n",
       "</table>\n",
       "</div>"
      ],
      "text/plain": [
       "         Gender  Near_location   Partner  Promo_friends     Phone  \\\n",
       "Churn                                                               \n",
       "0      0.509682       0.872752  0.534578       0.353734  0.904564   \n",
       "1      0.511733       0.773466  0.361913       0.190433  0.900722   \n",
       "\n",
       "       Contract_period  Group_visits       Age  Additional_charges_total  \n",
       "Churn                                                                     \n",
       "0             5.745159      0.464039  29.98686                158.314165  \n",
       "1             1.904332      0.277076  27.08935                117.265656  "
      ]
     },
     "execution_count": 14,
     "metadata": {},
     "output_type": "execute_result"
    }
   ],
   "source": [
    "gym.groupby('Churn').mean().iloc[:,:9]"
   ]
  },
  {
   "cell_type": "code",
   "execution_count": 15,
   "metadata": {},
   "outputs": [
    {
     "data": {
      "text/html": [
       "<div>\n",
       "<style scoped>\n",
       "    .dataframe tbody tr th:only-of-type {\n",
       "        vertical-align: middle;\n",
       "    }\n",
       "\n",
       "    .dataframe tbody tr th {\n",
       "        vertical-align: top;\n",
       "    }\n",
       "\n",
       "    .dataframe thead th {\n",
       "        text-align: right;\n",
       "    }\n",
       "</style>\n",
       "<table border=\"1\" class=\"dataframe\">\n",
       "  <thead>\n",
       "    <tr style=\"text-align: right;\">\n",
       "      <th></th>\n",
       "      <th>Month_to_end_contract</th>\n",
       "      <th>Lifetime</th>\n",
       "      <th>Avg_class_frequency_total</th>\n",
       "      <th>Avg_class_frequency_current_month</th>\n",
       "    </tr>\n",
       "    <tr>\n",
       "      <th>Churn</th>\n",
       "      <th></th>\n",
       "      <th></th>\n",
       "      <th></th>\n",
       "      <th></th>\n",
       "    </tr>\n",
       "  </thead>\n",
       "  <tbody>\n",
       "    <tr>\n",
       "      <th>0</th>\n",
       "      <td>5.280083</td>\n",
       "      <td>4.709198</td>\n",
       "      <td>2.057728</td>\n",
       "      <td>2.060838</td>\n",
       "    </tr>\n",
       "    <tr>\n",
       "      <th>1</th>\n",
       "      <td>1.824007</td>\n",
       "      <td>1.155235</td>\n",
       "      <td>1.412571</td>\n",
       "      <td>1.000237</td>\n",
       "    </tr>\n",
       "  </tbody>\n",
       "</table>\n",
       "</div>"
      ],
      "text/plain": [
       "       Month_to_end_contract  Lifetime  Avg_class_frequency_total  \\\n",
       "Churn                                                               \n",
       "0                   5.280083  4.709198                   2.057728   \n",
       "1                   1.824007  1.155235                   1.412571   \n",
       "\n",
       "       Avg_class_frequency_current_month  \n",
       "Churn                                     \n",
       "0                               2.060838  \n",
       "1                               1.000237  "
      ]
     },
     "execution_count": 15,
     "metadata": {},
     "output_type": "execute_result"
    }
   ],
   "source": [
    "gym.groupby('Churn').mean().iloc[:,9:]"
   ]
  },
  {
   "cell_type": "markdown",
   "metadata": {},
   "source": [
    "So, the average values of features for those who left and for those who stayed:    \n",
    "We can see women and men (`Gender`) are represented in these groups approximately equally. The proximity of localization (`Near_location`) is only slightly higher for those who stayed. And the average value for the attributes `Partner`,` Promo_friends`, `Contract_period`,` Group_visits`, `Additional_charges_total`,` Month_to_end_contract`, `Lifetime`,` Avg_class_frequency_total`, `Avg_class_frequency_current_month` is higher in the group of those who continued to come to the gym.   \n",
    "As for `Age`, on average, those that stayed are a little older than those that left."
   ]
  },
  {
   "cell_type": "markdown",
   "metadata": {},
   "source": [
    "[To the Table of Contents](#go_up)   \n",
    "### 2.3.<a class=\"anchor\" id=\"step_2_3\"></a> Bar histograms and feature distributions for two groups   \n",
    "Plot bar histograms and feature distributions for those who left (churn) and those who stayed."
   ]
  },
  {
   "cell_type": "markdown",
   "metadata": {},
   "source": [
    "First, I'll write a function that draws distribution plots for a given feature. It will be useful to us again later, for clusters."
   ]
  },
  {
   "cell_type": "code",
   "execution_count": 16,
   "metadata": {},
   "outputs": [],
   "source": [
    "def plot_dist(df, feature):\n",
    "    plt.figure(figsize=(15,15))\n",
    "    the_grid = GridSpec(5, 3)\n",
    "    \n",
    "    # place in grid for plot\n",
    "    \n",
    "    for i, column in enumerate(df.drop(feature, axis = 1).columns):\n",
    "        plt.subplot(the_grid[i//3, i%3], title=column.replace('_',' '))\n",
    "        values = len(df[column].unique())\n",
    "        features = sorted(df[feature].unique())\n",
    "        \n",
    "    # continuous vs discrete\n",
    "    \n",
    "        if values > 12:    \n",
    "            for i,x in enumerate(features):\n",
    "                sns.distplot(df[df[feature] == x][column], hist = False, \n",
    "                             kde_kws = {'shade': True, 'linewidth': 3}, color=colors[i])\n",
    "        else:\n",
    "            sns.countplot(column, hue=feature, data=gym, palette=colors, alpha=.5, saturation=1)\n",
    "            plt.gca().get_legend().remove()\n",
    "            \n",
    "     # xticks       \n",
    "            if values == 2:\n",
    "                if column == 'Gender':\n",
    "                    plt.xticks(np.arange(values),('F','M'))\n",
    "                    \n",
    "     # legend             \n",
    "                    if feature == 'Churn':\n",
    "                        legend = ['Stayed','Left']\n",
    "                    else:\n",
    "                        legend = features\n",
    "                    plt.legend(legend, shadow=True, fancybox=True, title=feature, loc='best')\n",
    "                else:\n",
    "                    plt.xticks(np.arange(values),('NO','YES'))\n",
    "            else:\n",
    "                plt.xticks(np.arange(values),[int(x) for x in sorted(df[column].unique())])\n",
    "        plt.xlabel('')\n",
    "        plt.ylabel('')\n",
    "\n",
    "    plt.tight_layout()\n",
    "\n",
    "    plt.suptitle('Feature distributions', fontsize=24, y=1.02)\n",
    "    plt.show()"
   ]
  },
  {
   "cell_type": "code",
   "execution_count": 17,
   "metadata": {
    "scrolled": false
   },
   "outputs": [
    {
     "data": {
      "image/png": "[encoded data removed]",
      "text/plain": [
       "<Figure size 1080x1080 with 13 Axes>"
      ]
     },
     "metadata": {
      "needs_background": "light"
     },
     "output_type": "display_data"
    }
   ],
   "source": [
    "plot_dist(gym,'Churn')"
   ]
  },
  {
   "cell_type": "markdown",
   "metadata": {},
   "source": [
    "In these plots, we can observe the distribution of features for those who left (churn) and those who stayed.   \n",
    "Men and women in both groups are equally represented. The proximity to the gym promotes attendance, as does the discounts from the partner employer. The majority of users provide the phone numer, and the contract is longer for those who stayed. Those who left, a little younger, spend less money on additional services and went to the gym a little less often while they were still going.\n",
    "Let's take a look at the correlation matrix of features"
   ]
  },
  {
   "cell_type": "markdown",
   "metadata": {},
   "source": [
    "[To the Table of Contents](#go_up)   \n",
    "### 2.4.<a class=\"anchor\" id=\"step_2_4\"></a> Correlation matrix   \n",
    "Build a correlation matrix and display it"
   ]
  },
  {
   "cell_type": "code",
   "execution_count": 18,
   "metadata": {},
   "outputs": [
    {
     "data": {
      "image/png": "[encoded data removed]",
      "text/plain": [
       "<Figure size 1080x1080 with 2 Axes>"
      ]
     },
     "metadata": {
      "needs_background": "light"
     },
     "output_type": "display_data"
    }
   ],
   "source": [
    "plt.figure(figsize=(15,15))\n",
    "sns.heatmap(gym.corr(), annot = True, square = True)\n",
    "#plt.ylim(14, 0)\n",
    "#plt.xlim(0, 14)\n",
    "plt.title('Correlation matrix of features')\n",
    "plt.show()"
   ]
  },
  {
   "cell_type": "markdown",
   "metadata": {},
   "source": [
    "There are no features highly likely to give us the correct answer. But we have 2 pairs of correlated features `Avg_class_frequency_total` - `Avg_class_frequency_current_month` and `Contract_period` - `Month_to_end_contract`. I've decided not to drop them in order not to 'trading accuracy for a shorter equation' for **LogisticRegression**.   \n",
    "For ensembles correlated features are not a problem"
   ]
  },
  {
   "cell_type": "markdown",
   "metadata": {},
   "source": [
    "On the step 2, I examined the basic characteristics of the features, their mean value and standard deviation, and their distribution among the groups of those who stayed and those who left the gym. We looked at the distribution plots for these two groups and built a hitmap to identify correlated features."
   ]
  },
  {
   "cell_type": "markdown",
   "metadata": {},
   "source": [
    "[To the Table of Contents](#go_up)   \n",
    "## Step 3. <a class=\"anchor\" id=\"step_3\"></a> Building a model to predict user churn\n",
    "Build a binary classification model for customers where the target feature is the user's leaving next month.   \n",
    "Remember to indicate the random_state parameter when dividing data and defining the algorithm\n",
    "\n",
    "I decided to test all the models I know for supervised binary classification. Let's define the algorithms for these models"
   ]
  },
  {
   "cell_type": "code",
   "execution_count": 19,
   "metadata": {},
   "outputs": [],
   "source": [
    "lr_model = LogisticRegression(random_state=0, solver = 'liblinear')\n",
    "rf_model = RandomForestClassifier(random_state=0, n_estimators = 100)\n",
    "dt_model = DecisionTreeClassifier(random_state=0)\n",
    "gb_model =  GradientBoostingClassifier(random_state=0)\n",
    "\n",
    "models = {'LogisticRegression' : lr_model, 'RandomForestClassifier' : rf_model, 'DecisionTreeClassifier' : dt_model,\n",
    "         'GradientBoostingClassifier' : gb_model}"
   ]
  },
  {
   "cell_type": "markdown",
   "metadata": {},
   "source": [
    "[To the Table of Contents](#go_up)   \n",
    "### 3.1.<a class=\"anchor\" id=\"step_3_1\"></a> Dividing the data into train and validation sets\n",
    "Divide the data into train and validation sets using the train_test_split() function"
   ]
  },
  {
   "cell_type": "markdown",
   "metadata": {},
   "source": [
    "Let me remind the ratio again. We are dealing with unbalanced classes"
   ]
  },
  {
   "cell_type": "code",
   "execution_count": 20,
   "metadata": {},
   "outputs": [
    {
     "name": "stdout",
     "output_type": "stream",
     "text": [
      "The ratio between classes:\n",
      "        Count     %\n",
      "Churn             \n",
      "0       2892  72.3\n",
      "1       1108  27.7\n"
     ]
    }
   ],
   "source": [
    "print('The ratio between classes:\\n', \\\n",
    "      gym.groupby('Churn')['Gender'].agg({lambda x: 100*x.count()/len(gym),'count'}). \\\n",
    "      rename(columns={'<lambda_0>':'%','count':'Count'}))"
   ]
  },
  {
   "cell_type": "markdown",
   "metadata": {},
   "source": [
    "Splitting data into 2 sets (80% - 20%)"
   ]
  },
  {
   "cell_type": "code",
   "execution_count": 21,
   "metadata": {},
   "outputs": [],
   "source": [
    "X = gym.drop('Churn', axis = 1)\n",
    "y = gym['Churn']\n",
    "X_train, X_test, y_train, y_test = train_test_split(X, y, test_size=0.2, random_state=0) "
   ]
  },
  {
   "cell_type": "markdown",
   "metadata": {},
   "source": [
    "[To the Table of Contents](#go_up)   \n",
    "### 3.2.<a class=\"anchor\" id=\"step_3_2\"></a> Training the model on the train set with Logistic Regression method"
   ]
  },
  {
   "cell_type": "code",
   "execution_count": 22,
   "metadata": {},
   "outputs": [],
   "source": [
    "lr_model.fit(X_train, y_train)\n",
    "lr_predictions = lr_model.predict(X_test) \n",
    "lr_probabilities = lr_model.predict_proba(X_test)[:,1]"
   ]
  },
  {
   "cell_type": "markdown",
   "metadata": {},
   "source": [
    "[To the Table of Contents](#go_up)   \n",
    "### 3.3.<a class=\"anchor\" id=\"step_3_3\"></a> Training the model on the train set with Random Forest method"
   ]
  },
  {
   "cell_type": "code",
   "execution_count": 23,
   "metadata": {},
   "outputs": [],
   "source": [
    "rf_model.fit(X_train, y_train)\n",
    "rf_predictions = rf_model.predict(X_test) \n",
    "rf_probabilities = rf_model.predict_proba(X_test)[:,1]"
   ]
  },
  {
   "cell_type": "markdown",
   "metadata": {},
   "source": [
    "[To the Table of Contents](#go_up)   \n",
    "### 3.4.<a class=\"anchor\" id=\"step_3_4\"></a> Training the model on the train set with Decision Tree method"
   ]
  },
  {
   "cell_type": "code",
   "execution_count": 24,
   "metadata": {},
   "outputs": [],
   "source": [
    "dt_model.fit(X_train, y_train)\n",
    "dt_predictions = dt_model.predict(X_test) \n",
    "dt_probabilities = dt_model.predict_proba(X_test)[:,1]"
   ]
  },
  {
   "cell_type": "markdown",
   "metadata": {},
   "source": [
    "[To the Table of Contents](#go_up)   \n",
    "### 3.5.<a class=\"anchor\" id=\"step_3_5\"></a> Training the model on the train set with Gradient Boosting method"
   ]
  },
  {
   "cell_type": "code",
   "execution_count": 25,
   "metadata": {},
   "outputs": [],
   "source": [
    "gb_model.fit(X_train, y_train)\n",
    "gb_predictions = gb_model.predict(X_test) \n",
    "gb_probabilities = gb_model.predict_proba(X_test)[:,1]"
   ]
  },
  {
   "cell_type": "markdown",
   "metadata": {},
   "source": [
    "[To the Table of Contents](#go_up)   \n",
    "### 3.6.<a class=\"anchor\" id=\"step_3_6\"></a> Accuracy, precision, recall and other metrics for all models\n",
    "Evaluate accuracy, balanced accuracy, precision, recall, f1, ROC_AUC and confusion matrix for all the models using the validation data\n",
    "\n",
    "**Accuracy** - the share of accurate predictions among all predictions **(TP+TN)/(TP+FP+TN+FN)**   \n",
    "Accuracy only works when classes are balanced, i.e. when objects are distributed almost evenly between the classes, approximately 50/50. So we can use **balanced accuracy**   \n",
    "**Precision** - the share of correct answers only in the target class  **TP/(TP+FP)**   \n",
    "**Recall** - ability of the classifier to find all the positive samples  **TP/(TP+FN)**   \n",
    "**F1 Score** = **2 * precision * recall/(precision+recall)**   \n",
    "**ROC_AUC** - Receiver Operating Characteristic and Area Under Curve. This metric is a great tool for working with imbalanced classes"
   ]
  },
  {
   "cell_type": "markdown",
   "metadata": {},
   "source": [
    "So here is a function calculating all the metrics mentioned above"
   ]
  },
  {
   "cell_type": "code",
   "execution_count": 26,
   "metadata": {},
   "outputs": [],
   "source": [
    "def calculate_metrics(model, X_test, y_test):\n",
    "    return [round(accuracy_score(y_test,model.predict(X_test)),2),\n",
    "            round(balanced_accuracy_score(y_test,model.predict(X_test)),2),\n",
    "            round(precision_score(y_test,model.predict(X_test)),2),\n",
    "            round(recall_score(y_test,model.predict(X_test)),2),\n",
    "            round(f1_score(y_test,model.predict(X_test)),2),\n",
    "            round(roc_auc_score(y_test,model.predict_proba(X_test)[:,1]),2),\n",
    "            confusion_matrix(y_test, model.predict(X_test))[0],\n",
    "            confusion_matrix(y_test, model.predict(X_test))[1]]"
   ]
  },
  {
   "cell_type": "code",
   "execution_count": 27,
   "metadata": {},
   "outputs": [],
   "source": [
    "metrics_names = ['Accuracy','Balanced accuracy','Precision','Recall','F1','ROC_AUC','Confusion Matrix','']\n",
    "metrics = pd.DataFrame(index = metrics_names)"
   ]
  },
  {
   "cell_type": "markdown",
   "metadata": {},
   "source": [
    "I also tried playing with different threshold values, but these options did not improve the values of the main metrics."
   ]
  },
  {
   "cell_type": "code",
   "execution_count": 28,
   "metadata": {},
   "outputs": [],
   "source": [
    "# threshold = .6\n",
    "# lr_custom_predictions = [0 if i<threshold else 1 for i in lr_probabilities]\n",
    "# rf_custom_predictions = [0 if i<threshold else 1 for i in rf_probabilities]"
   ]
  },
  {
   "cell_type": "code",
   "execution_count": 29,
   "metadata": {},
   "outputs": [],
   "source": [
    "# print('Accuracy: {:.2f}'.format(accuracy_score(y_test,lr_custom_predictions)))\n",
    "# print('Balanced accuracy: {:.2f}'.format(balanced_accuracy_score(y_test,lr_custom_predictions)))\n",
    "# print('Precision: {:.2f}'.format(precision_score(y_test,lr_custom_predictions)))\n",
    "# print('Recall: {:.2f}'.format(recall_score(y_test,lr_custom_predictions)))\n",
    "# print('F1: {:.2f}'.format(f1_score(y_test,lr_custom_predictions)))\n",
    "# print('ROC_AUC: {:.2f}'.format(roc_auc_score(y_test,lr_probabilities)))\n",
    "# print('Confusion Matrix: \\n{}'.format(confusion_matrix(y_test, lr_custom_predictions)))\n",
    "\n",
    "# print('Accuracy: {:.2f}'.format(accuracy_score(y_test,rf_custom_predictions)))\n",
    "# print('Balanced accuracy: {:.2f}'.format(balanced_accuracy_score(y_test,rf_custom_predictions)))\n",
    "# print('Precision: {:.2f}'.format(precision_score(y_test,rf_custom_predictions)))\n",
    "# print('Recall: {:.2f}'.format(recall_score(y_test,rf_custom_predictions)))\n",
    "# print('F1: {:.2f}'.format(f1_score(y_test,rf_custom_predictions)))\n",
    "# print('ROC_AUC: {:.2f}'.format(roc_auc_score(y_test,lr_probabilities)))\n",
    "# print('Confusion Matrix: \\n{}'.format(confusion_matrix(y_test, rf_custom_predictions)))"
   ]
  },
  {
   "cell_type": "markdown",
   "metadata": {},
   "source": [
    "[To the Table of Contents](#go_up)   \n",
    "### 3.7.<a class=\"anchor\" id=\"step_3_7\"></a> Comparing the models\n",
    "Use accuracy, precision, and recall to compare the models. Which model gave better results?"
   ]
  },
  {
   "cell_type": "markdown",
   "metadata": {},
   "source": [
    "Let's compare all the metrics for all our trained models:"
   ]
  },
  {
   "cell_type": "code",
   "execution_count": 30,
   "metadata": {},
   "outputs": [
    {
     "data": {
      "text/html": [
       "<div>\n",
       "<style scoped>\n",
       "    .dataframe tbody tr th:only-of-type {\n",
       "        vertical-align: middle;\n",
       "    }\n",
       "\n",
       "    .dataframe tbody tr th {\n",
       "        vertical-align: top;\n",
       "    }\n",
       "\n",
       "    .dataframe thead th {\n",
       "        text-align: right;\n",
       "    }\n",
       "</style>\n",
       "<table border=\"1\" class=\"dataframe\">\n",
       "  <thead>\n",
       "    <tr style=\"text-align: right;\">\n",
       "      <th></th>\n",
       "      <th>LogisticRegression</th>\n",
       "      <th>RandomForestClassifier</th>\n",
       "      <th>DecisionTreeClassifier</th>\n",
       "      <th>GradientBoostingClassifier</th>\n",
       "    </tr>\n",
       "  </thead>\n",
       "  <tbody>\n",
       "    <tr>\n",
       "      <th>Accuracy</th>\n",
       "      <td>0.92</td>\n",
       "      <td>0.93</td>\n",
       "      <td>0.9</td>\n",
       "      <td>0.93</td>\n",
       "    </tr>\n",
       "    <tr>\n",
       "      <th>Balanced accuracy</th>\n",
       "      <td>0.88</td>\n",
       "      <td>0.9</td>\n",
       "      <td>0.87</td>\n",
       "      <td>0.91</td>\n",
       "    </tr>\n",
       "    <tr>\n",
       "      <th>Precision</th>\n",
       "      <td>0.89</td>\n",
       "      <td>0.86</td>\n",
       "      <td>0.82</td>\n",
       "      <td>0.87</td>\n",
       "    </tr>\n",
       "    <tr>\n",
       "      <th>Recall</th>\n",
       "      <td>0.8</td>\n",
       "      <td>0.86</td>\n",
       "      <td>0.81</td>\n",
       "      <td>0.87</td>\n",
       "    </tr>\n",
       "    <tr>\n",
       "      <th>F1</th>\n",
       "      <td>0.84</td>\n",
       "      <td>0.86</td>\n",
       "      <td>0.82</td>\n",
       "      <td>0.87</td>\n",
       "    </tr>\n",
       "    <tr>\n",
       "      <th>ROC_AUC</th>\n",
       "      <td>0.96</td>\n",
       "      <td>0.97</td>\n",
       "      <td>0.87</td>\n",
       "      <td>0.98</td>\n",
       "    </tr>\n",
       "    <tr>\n",
       "      <th>Confusion Matrix</th>\n",
       "      <td>[569, 21]</td>\n",
       "      <td>[561, 29]</td>\n",
       "      <td>[552, 38]</td>\n",
       "      <td>[563, 27]</td>\n",
       "    </tr>\n",
       "    <tr>\n",
       "      <th></th>\n",
       "      <td>[42, 168]</td>\n",
       "      <td>[30, 180]</td>\n",
       "      <td>[39, 171]</td>\n",
       "      <td>[28, 182]</td>\n",
       "    </tr>\n",
       "  </tbody>\n",
       "</table>\n",
       "</div>"
      ],
      "text/plain": [
       "                  LogisticRegression RandomForestClassifier  \\\n",
       "Accuracy                        0.92                   0.93   \n",
       "Balanced accuracy               0.88                    0.9   \n",
       "Precision                       0.89                   0.86   \n",
       "Recall                           0.8                   0.86   \n",
       "F1                              0.84                   0.86   \n",
       "ROC_AUC                         0.96                   0.97   \n",
       "Confusion Matrix           [569, 21]              [561, 29]   \n",
       "                           [42, 168]              [30, 180]   \n",
       "\n",
       "                  DecisionTreeClassifier GradientBoostingClassifier  \n",
       "Accuracy                             0.9                       0.93  \n",
       "Balanced accuracy                   0.87                       0.91  \n",
       "Precision                           0.82                       0.87  \n",
       "Recall                              0.81                       0.87  \n",
       "F1                                  0.82                       0.87  \n",
       "ROC_AUC                             0.87                       0.98  \n",
       "Confusion Matrix               [552, 38]                  [563, 27]  \n",
       "                               [39, 171]                  [28, 182]  "
      ]
     },
     "execution_count": 30,
     "metadata": {},
     "output_type": "execute_result"
    }
   ],
   "source": [
    "for name, model in models.items():\n",
    "    metrics[name] = calculate_metrics(model, X_test, y_test)\n",
    "metrics"
   ]
  },
  {
   "cell_type": "markdown",
   "metadata": {},
   "source": [
    "We have calculated the basic metrics for all 4 models. They all perform well, but ensemples yields the best results. And the metrics for **GradientBoostingClassifier** are even higher than the metrics for **RandomForestClassifier**.\n",
    "However, **LogisticRegression** gives the best True Positive score in the Confusion Matrix.   \n",
    "I think **GradientBoostingClassifier** can be considered the best model for this task."
   ]
  },
  {
   "cell_type": "markdown",
   "metadata": {},
   "source": [
    "[To the Table of Contents](#go_up)   \n",
    "### 3.8.<a class=\"anchor\" id=\"step_3_8\"></a> Importance of Features"
   ]
  },
  {
   "cell_type": "markdown",
   "metadata": {},
   "source": [
    "Let's compare the importance of the features. I will sort them according to the best model for our task - **GradientBoostingClassifier**"
   ]
  },
  {
   "cell_type": "code",
   "execution_count": 31,
   "metadata": {},
   "outputs": [
    {
     "data": {
      "text/html": [
       "<div>\n",
       "<style scoped>\n",
       "    .dataframe tbody tr th:only-of-type {\n",
       "        vertical-align: middle;\n",
       "    }\n",
       "\n",
       "    .dataframe tbody tr th {\n",
       "        vertical-align: top;\n",
       "    }\n",
       "\n",
       "    .dataframe thead th {\n",
       "        text-align: right;\n",
       "    }\n",
       "</style>\n",
       "<table border=\"1\" class=\"dataframe\">\n",
       "  <thead>\n",
       "    <tr style=\"text-align: right;\">\n",
       "      <th></th>\n",
       "      <th>RandomForestClassifier</th>\n",
       "      <th>DecisionTreeClassifier</th>\n",
       "      <th>GradientBoostingClassifier</th>\n",
       "    </tr>\n",
       "  </thead>\n",
       "  <tbody>\n",
       "    <tr>\n",
       "      <th>Lifetime</th>\n",
       "      <td>0.257049</td>\n",
       "      <td>0.342226</td>\n",
       "      <td>0.421373</td>\n",
       "    </tr>\n",
       "    <tr>\n",
       "      <th>Avg_class_frequency_current_month</th>\n",
       "      <td>0.226344</td>\n",
       "      <td>0.226192</td>\n",
       "      <td>0.241534</td>\n",
       "    </tr>\n",
       "    <tr>\n",
       "      <th>Avg_class_frequency_total</th>\n",
       "      <td>0.133736</td>\n",
       "      <td>0.126839</td>\n",
       "      <td>0.114206</td>\n",
       "    </tr>\n",
       "    <tr>\n",
       "      <th>Age</th>\n",
       "      <td>0.114173</td>\n",
       "      <td>0.079277</td>\n",
       "      <td>0.083150</td>\n",
       "    </tr>\n",
       "    <tr>\n",
       "      <th>Month_to_end_contract</th>\n",
       "      <td>0.065063</td>\n",
       "      <td>0.091269</td>\n",
       "      <td>0.079598</td>\n",
       "    </tr>\n",
       "    <tr>\n",
       "      <th>Contract_period</th>\n",
       "      <td>0.052559</td>\n",
       "      <td>0.026174</td>\n",
       "      <td>0.031791</td>\n",
       "    </tr>\n",
       "    <tr>\n",
       "      <th>Additional_charges_total</th>\n",
       "      <td>0.086936</td>\n",
       "      <td>0.075981</td>\n",
       "      <td>0.021279</td>\n",
       "    </tr>\n",
       "    <tr>\n",
       "      <th>Group_visits</th>\n",
       "      <td>0.015937</td>\n",
       "      <td>0.009525</td>\n",
       "      <td>0.005175</td>\n",
       "    </tr>\n",
       "    <tr>\n",
       "      <th>Promo_friends</th>\n",
       "      <td>0.011867</td>\n",
       "      <td>0.011170</td>\n",
       "      <td>0.001661</td>\n",
       "    </tr>\n",
       "    <tr>\n",
       "      <th>Near_location</th>\n",
       "      <td>0.008231</td>\n",
       "      <td>0.004210</td>\n",
       "      <td>0.000167</td>\n",
       "    </tr>\n",
       "    <tr>\n",
       "      <th>Partner</th>\n",
       "      <td>0.011322</td>\n",
       "      <td>0.002931</td>\n",
       "      <td>0.000066</td>\n",
       "    </tr>\n",
       "    <tr>\n",
       "      <th>Gender</th>\n",
       "      <td>0.010742</td>\n",
       "      <td>0.002938</td>\n",
       "      <td>0.000000</td>\n",
       "    </tr>\n",
       "    <tr>\n",
       "      <th>Phone</th>\n",
       "      <td>0.006042</td>\n",
       "      <td>0.001267</td>\n",
       "      <td>0.000000</td>\n",
       "    </tr>\n",
       "  </tbody>\n",
       "</table>\n",
       "</div>"
      ],
      "text/plain": [
       "                                   RandomForestClassifier  \\\n",
       "Lifetime                                         0.257049   \n",
       "Avg_class_frequency_current_month                0.226344   \n",
       "Avg_class_frequency_total                        0.133736   \n",
       "Age                                              0.114173   \n",
       "Month_to_end_contract                            0.065063   \n",
       "Contract_period                                  0.052559   \n",
       "Additional_charges_total                         0.086936   \n",
       "Group_visits                                     0.015937   \n",
       "Promo_friends                                    0.011867   \n",
       "Near_location                                    0.008231   \n",
       "Partner                                          0.011322   \n",
       "Gender                                           0.010742   \n",
       "Phone                                            0.006042   \n",
       "\n",
       "                                   DecisionTreeClassifier  \\\n",
       "Lifetime                                         0.342226   \n",
       "Avg_class_frequency_current_month                0.226192   \n",
       "Avg_class_frequency_total                        0.126839   \n",
       "Age                                              0.079277   \n",
       "Month_to_end_contract                            0.091269   \n",
       "Contract_period                                  0.026174   \n",
       "Additional_charges_total                         0.075981   \n",
       "Group_visits                                     0.009525   \n",
       "Promo_friends                                    0.011170   \n",
       "Near_location                                    0.004210   \n",
       "Partner                                          0.002931   \n",
       "Gender                                           0.002938   \n",
       "Phone                                            0.001267   \n",
       "\n",
       "                                   GradientBoostingClassifier  \n",
       "Lifetime                                             0.421373  \n",
       "Avg_class_frequency_current_month                    0.241534  \n",
       "Avg_class_frequency_total                            0.114206  \n",
       "Age                                                  0.083150  \n",
       "Month_to_end_contract                                0.079598  \n",
       "Contract_period                                      0.031791  \n",
       "Additional_charges_total                             0.021279  \n",
       "Group_visits                                         0.005175  \n",
       "Promo_friends                                        0.001661  \n",
       "Near_location                                        0.000167  \n",
       "Partner                                              0.000066  \n",
       "Gender                                               0.000000  \n",
       "Phone                                                0.000000  "
      ]
     },
     "execution_count": 31,
     "metadata": {},
     "output_type": "execute_result"
    }
   ],
   "source": [
    "feature_importances = pd.DataFrame(zip(rf_model.feature_importances_, dt_model.feature_importances_, \n",
    "                            gb_model.feature_importances_), index=X.columns, \n",
    "                        columns=['RandomForestClassifier','DecisionTreeClassifier','GradientBoostingClassifier'])\n",
    "feature_importances.sort_values(by='GradientBoostingClassifier', ascending = False)"
   ]
  },
  {
   "cell_type": "markdown",
   "metadata": {},
   "source": [
    "The most important features for the **GradientBoostingClassifier** model are `Lifetime`, `Avg_class_frequency_current_month` and `Avg_class_frequency_total`. The top three look the same for all three models. Least Important - `Phone`, `Gender` and `Partner`.   \n",
    "   \n",
    "The **LogisticRegression** model has no attribute `feature_importances_`, but we can compare zero coefficients using the `coef_` attribute"
   ]
  },
  {
   "cell_type": "code",
   "execution_count": 32,
   "metadata": {},
   "outputs": [
    {
     "data": {
      "text/html": [
       "<div>\n",
       "<style scoped>\n",
       "    .dataframe tbody tr th:only-of-type {\n",
       "        vertical-align: middle;\n",
       "    }\n",
       "\n",
       "    .dataframe tbody tr th {\n",
       "        vertical-align: top;\n",
       "    }\n",
       "\n",
       "    .dataframe thead th {\n",
       "        text-align: right;\n",
       "    }\n",
       "</style>\n",
       "<table border=\"1\" class=\"dataframe\">\n",
       "  <thead>\n",
       "    <tr style=\"text-align: right;\">\n",
       "      <th></th>\n",
       "      <th>LogisticRegression</th>\n",
       "    </tr>\n",
       "  </thead>\n",
       "  <tbody>\n",
       "    <tr>\n",
       "      <th>Avg_class_frequency_total</th>\n",
       "      <td>2.897347</td>\n",
       "    </tr>\n",
       "    <tr>\n",
       "      <th>Phone</th>\n",
       "      <td>0.305182</td>\n",
       "    </tr>\n",
       "    <tr>\n",
       "      <th>Gender</th>\n",
       "      <td>0.063457</td>\n",
       "    </tr>\n",
       "    <tr>\n",
       "      <th>Near_location</th>\n",
       "      <td>0.027196</td>\n",
       "    </tr>\n",
       "    <tr>\n",
       "      <th>Additional_charges_total</th>\n",
       "      <td>-0.003695</td>\n",
       "    </tr>\n",
       "    <tr>\n",
       "      <th>Month_to_end_contract</th>\n",
       "      <td>-0.064542</td>\n",
       "    </tr>\n",
       "    <tr>\n",
       "      <th>Contract_period</th>\n",
       "      <td>-0.134734</td>\n",
       "    </tr>\n",
       "    <tr>\n",
       "      <th>Partner</th>\n",
       "      <td>-0.137025</td>\n",
       "    </tr>\n",
       "    <tr>\n",
       "      <th>Age</th>\n",
       "      <td>-0.176799</td>\n",
       "    </tr>\n",
       "    <tr>\n",
       "      <th>Promo_friends</th>\n",
       "      <td>-0.448965</td>\n",
       "    </tr>\n",
       "    <tr>\n",
       "      <th>Lifetime</th>\n",
       "      <td>-0.621271</td>\n",
       "    </tr>\n",
       "    <tr>\n",
       "      <th>Group_visits</th>\n",
       "      <td>-0.632920</td>\n",
       "    </tr>\n",
       "    <tr>\n",
       "      <th>Avg_class_frequency_current_month</th>\n",
       "      <td>-3.852194</td>\n",
       "    </tr>\n",
       "  </tbody>\n",
       "</table>\n",
       "</div>"
      ],
      "text/plain": [
       "                                   LogisticRegression\n",
       "Avg_class_frequency_total                    2.897347\n",
       "Phone                                        0.305182\n",
       "Gender                                       0.063457\n",
       "Near_location                                0.027196\n",
       "Additional_charges_total                    -0.003695\n",
       "Month_to_end_contract                       -0.064542\n",
       "Contract_period                             -0.134734\n",
       "Partner                                     -0.137025\n",
       "Age                                         -0.176799\n",
       "Promo_friends                               -0.448965\n",
       "Lifetime                                    -0.621271\n",
       "Group_visits                                -0.632920\n",
       "Avg_class_frequency_current_month           -3.852194"
      ]
     },
     "execution_count": 32,
     "metadata": {},
     "output_type": "execute_result"
    }
   ],
   "source": [
    "feature_importances_lr = pd.DataFrame(lr_model.coef_[0], columns = ['LogisticRegression'], index=X.columns)\n",
    "feature_importances_lr.sort_values(by='LogisticRegression', ascending = False)"
   ]
  },
  {
   "cell_type": "markdown",
   "metadata": {},
   "source": [
    "The highest absolute coefficients are for the `Avg_class_frequency_total` and `Avg_class_frequency_current_month` features, our correlated features."
   ]
  },
  {
   "cell_type": "markdown",
   "metadata": {},
   "source": [
    "On the step 3, we built 4 machine learning models for supervised binary classification - **LogisticRegression**, **RandomForestClassifier**, **DecisionTreeClassifier**, **GradientBoostingClassifier**.   \n",
    "The data was splitted into training and test groups (80% and 20%), and using this data, the models learned to predict the customers' churn. The main metrics for all these models were calculated and based on their results, the best model for this task was chosen - **GradientBoostingClassifier**"
   ]
  },
  {
   "cell_type": "markdown",
   "metadata": {},
   "source": [
    "[To the Table of Contents](#go_up)   \n",
    "## Step 4. <a class=\"anchor\" id=\"step_4\"></a>Creating user clusters  \n",
    "Set aside the column with data on churn and identify object (user) clusters.   \n",
    "\n",
    "Let's try to see what groups users can be splitted into and what their group portrait is.   \n",
    "The first step is data standardization"
   ]
  },
  {
   "cell_type": "markdown",
   "metadata": {},
   "source": [
    "### 4.1.<a class=\"anchor\" id=\"step_4_1\"></a> Standardizing the data   "
   ]
  },
  {
   "cell_type": "code",
   "execution_count": 33,
   "metadata": {},
   "outputs": [],
   "source": [
    "scaler = StandardScaler()\n",
    "X_sc = scaler.fit_transform(gym.drop('Churn', axis=1)) "
   ]
  },
  {
   "cell_type": "markdown",
   "metadata": {},
   "source": [
    "[To the Table of Contents](#go_up)   \n",
    "### 4.2.<a class=\"anchor\" id=\"step_4_2\"></a> Matrix of distances and dendrogram\n",
    "Use the linkage() function to build a matrix of distances based on the standardized feature matrix and plot a dendrogram. Note: rendering the dendrogram may take time! Use the resulting graph to estimate the number of clusters you can single out"
   ]
  },
  {
   "cell_type": "code",
   "execution_count": 34,
   "metadata": {},
   "outputs": [
    {
     "data": {
      "text/plain": [
       "array([[9.70000000e+01, 3.22200000e+03, 1.00990653e-01, 2.00000000e+00],\n",
       "       [2.61000000e+02, 3.17900000e+03, 1.22634574e-01, 2.00000000e+00],\n",
       "       [8.90000000e+02, 1.75000000e+03, 1.28123291e-01, 2.00000000e+00],\n",
       "       [2.10100000e+03, 3.77300000e+03, 1.44188037e-01, 2.00000000e+00],\n",
       "       [7.50000000e+01, 1.64600000e+03, 1.46525871e-01, 2.00000000e+00]])"
      ]
     },
     "execution_count": 34,
     "metadata": {},
     "output_type": "execute_result"
    }
   ],
   "source": [
    "linked = linkage(X_sc, method = 'ward') \n",
    "linked[:5]"
   ]
  },
  {
   "cell_type": "markdown",
   "metadata": {},
   "source": [
    "The Matrix of distances is built, now the dendrogram. At the same time, we will check how much time is spent on building it"
   ]
  },
  {
   "cell_type": "code",
   "execution_count": 35,
   "metadata": {},
   "outputs": [
    {
     "data": {
      "image/png": "[encoded data removed]",
      "text/plain": [
       "<Figure size 1080x720 with 1 Axes>"
      ]
     },
     "metadata": {
      "needs_background": "light"
     },
     "output_type": "display_data"
    },
    {
     "name": "stdout",
     "output_type": "stream",
     "text": [
      "Time in seconds to build this dendrogram - 73\n"
     ]
    }
   ],
   "source": [
    "start = time.time()\n",
    "\n",
    "plt.figure(figsize=(15, 10))  \n",
    "dendrogram(linked, orientation='top', truncate_mode = 'level')\n",
    "plt.title('Hierarchical clustering for GYM')\n",
    "plt.show() \n",
    "\n",
    "end = time.time()\n",
    "\n",
    "print('Time in seconds to build this dendrogram - {}'.format(round(end - start)))"
   ]
  },
  {
   "cell_type": "markdown",
   "metadata": {},
   "source": [
    "The suggested optimal number of clusters (4) corresponds to the four different colors on the plot.   \n",
    "I will try to test the **elbow method** in addition.The method consists of plotting the explained variation as a function of the number of clusters, and picking the elbow of the curve as the number of clusters to use. "
   ]
  },
  {
   "cell_type": "code",
   "execution_count": 36,
   "metadata": {},
   "outputs": [
    {
     "data": {
      "image/png": "[encoded data removed]",
      "text/plain": [
       "<Figure size 432x288 with 1 Axes>"
      ]
     },
     "metadata": {
      "needs_background": "light"
     },
     "output_type": "display_data"
    }
   ],
   "source": [
    "#sse-sum of squared errors\n",
    "sse={}\n",
    "data = gym.drop('Churn', axis=1)\n",
    "for k in range(1, 10):\n",
    "    kmeans = KMeans(n_clusters=k, max_iter=1000).fit(data)\n",
    "    data[\"clusters\"] = kmeans.labels_\n",
    "    sse[k] = kmeans.inertia_ \n",
    "plt.figure()\n",
    "plt.plot(list(sse.keys()), list(sse.values()))\n",
    "plt.xlabel(\"Number of clusters\")\n",
    "plt.title('Elbow method for clustering')\n",
    "plt.show()"
   ]
  },
  {
   "cell_type": "markdown",
   "metadata": {},
   "source": [
    "I am somewhat in doubt, the **elbow method** suggest the number of clusters is 3 or 4 (definitely not 5). I will choose **4**, considering the dendrogram as well, although I honestly admit that I am not sure of my decision. In the draft, I built models with 2-5 clusters, and none seemed optimal to me."
   ]
  },
  {
   "cell_type": "markdown",
   "metadata": {},
   "source": [
    "[To the Table of Contents](#go_up)   \n",
    "### 4.3.<a class=\"anchor\" id=\"step_4_3\"></a> Training the clustering model with the K-means algorithm\n",
    "Train the clustering model with the K-means algorithm and predict customer clusters.    \n",
    "(Let the number of clusters be n=5, so that it'll be easier to compare your results with those of other students. However, in real life, no one will give you such hints, so you'll have to decide based on the graph from the previous step.)  \n",
    "   \n",
    "   \n",
    "I will build a 4 cluster model as I mentioned above   "
   ]
  },
  {
   "cell_type": "code",
   "execution_count": 37,
   "metadata": {},
   "outputs": [
    {
     "name": "stdout",
     "output_type": "stream",
     "text": [
      "Clusters:\n",
      "          Count       %\n",
      "cluster               \n",
      "0          386   9.650\n",
      "1         1479  36.975\n",
      "2         1057  26.425\n",
      "3         1078  26.950\n"
     ]
    }
   ],
   "source": [
    "km = KMeans(n_clusters = 4, random_state=0)\n",
    "labels = km.fit_predict(X_sc)\n",
    "gym['cluster'] = labels\n",
    "print('Clusters:\\n', \\\n",
    "      gym.groupby('cluster')['Gender'].agg({lambda x: 100*x.count()/len(gym),'count'}). \\\n",
    "      rename(columns={'<lambda_0>':'%','count':'Count'}))"
   ]
  },
  {
   "cell_type": "markdown",
   "metadata": {},
   "source": [
    "Using the distance matrix, we built a model of 4 clusters. Users are not evenly distributed into clusters. However, they shouldn't"
   ]
  },
  {
   "cell_type": "code",
   "execution_count": 38,
   "metadata": {},
   "outputs": [
    {
     "name": "stdout",
     "output_type": "stream",
     "text": [
      "Silhouette_score: 0.13\n"
     ]
    }
   ],
   "source": [
    "print('Silhouette_score: {:.2f}'.format(silhouette_score(X_sc, labels)))"
   ]
  },
  {
   "cell_type": "markdown",
   "metadata": {},
   "source": [
    "The **silhouette_score** metric shows a very low value. Metrics for models with a different number of clusters were close to this"
   ]
  },
  {
   "cell_type": "markdown",
   "metadata": {},
   "source": [
    "[To the Table of Contents](#go_up)   \n",
    "### 4.4.<a class=\"anchor\" id=\"step_4_4\"></a> Mean feature values for clusters\n",
    "Look at the mean feature values for clusters. Does anything catch your eye?"
   ]
  },
  {
   "cell_type": "code",
   "execution_count": 39,
   "metadata": {},
   "outputs": [
    {
     "data": {
      "text/html": [
       "<div>\n",
       "<style scoped>\n",
       "    .dataframe tbody tr th:only-of-type {\n",
       "        vertical-align: middle;\n",
       "    }\n",
       "\n",
       "    .dataframe tbody tr th {\n",
       "        vertical-align: top;\n",
       "    }\n",
       "\n",
       "    .dataframe thead th {\n",
       "        text-align: right;\n",
       "    }\n",
       "</style>\n",
       "<table border=\"1\" class=\"dataframe\">\n",
       "  <thead>\n",
       "    <tr style=\"text-align: right;\">\n",
       "      <th></th>\n",
       "      <th>Gender</th>\n",
       "      <th>Near_location</th>\n",
       "      <th>Partner</th>\n",
       "      <th>Promo_friends</th>\n",
       "      <th>Phone</th>\n",
       "      <th>Contract_period</th>\n",
       "      <th>Group_visits</th>\n",
       "      <th>Age</th>\n",
       "      <th>Additional_charges_total</th>\n",
       "    </tr>\n",
       "    <tr>\n",
       "      <th>cluster</th>\n",
       "      <th></th>\n",
       "      <th></th>\n",
       "      <th></th>\n",
       "      <th></th>\n",
       "      <th></th>\n",
       "      <th></th>\n",
       "      <th></th>\n",
       "      <th></th>\n",
       "      <th></th>\n",
       "    </tr>\n",
       "  </thead>\n",
       "  <tbody>\n",
       "    <tr>\n",
       "      <th>0</th>\n",
       "      <td>0.523316</td>\n",
       "      <td>0.862694</td>\n",
       "      <td>0.471503</td>\n",
       "      <td>0.305699</td>\n",
       "      <td>0.0</td>\n",
       "      <td>4.777202</td>\n",
       "      <td>0.427461</td>\n",
       "      <td>29.297927</td>\n",
       "      <td>144.208179</td>\n",
       "    </tr>\n",
       "    <tr>\n",
       "      <th>1</th>\n",
       "      <td>0.486815</td>\n",
       "      <td>0.759297</td>\n",
       "      <td>0.381339</td>\n",
       "      <td>0.190669</td>\n",
       "      <td>1.0</td>\n",
       "      <td>1.899256</td>\n",
       "      <td>0.292765</td>\n",
       "      <td>28.048005</td>\n",
       "      <td>129.704525</td>\n",
       "    </tr>\n",
       "    <tr>\n",
       "      <th>2</th>\n",
       "      <td>0.544939</td>\n",
       "      <td>0.861873</td>\n",
       "      <td>0.343425</td>\n",
       "      <td>0.205298</td>\n",
       "      <td>1.0</td>\n",
       "      <td>2.403027</td>\n",
       "      <td>0.447493</td>\n",
       "      <td>29.989593</td>\n",
       "      <td>157.358764</td>\n",
       "    </tr>\n",
       "    <tr>\n",
       "      <th>3</th>\n",
       "      <td>0.503711</td>\n",
       "      <td>0.940631</td>\n",
       "      <td>0.777365</td>\n",
       "      <td>0.572356</td>\n",
       "      <td>1.0</td>\n",
       "      <td>10.697588</td>\n",
       "      <td>0.536178</td>\n",
       "      <td>29.912801</td>\n",
       "      <td>161.363032</td>\n",
       "    </tr>\n",
       "  </tbody>\n",
       "</table>\n",
       "</div>"
      ],
      "text/plain": [
       "           Gender  Near_location   Partner  Promo_friends  Phone  \\\n",
       "cluster                                                            \n",
       "0        0.523316       0.862694  0.471503       0.305699    0.0   \n",
       "1        0.486815       0.759297  0.381339       0.190669    1.0   \n",
       "2        0.544939       0.861873  0.343425       0.205298    1.0   \n",
       "3        0.503711       0.940631  0.777365       0.572356    1.0   \n",
       "\n",
       "         Contract_period  Group_visits        Age  Additional_charges_total  \n",
       "cluster                                                                      \n",
       "0               4.777202      0.427461  29.297927                144.208179  \n",
       "1               1.899256      0.292765  28.048005                129.704525  \n",
       "2               2.403027      0.447493  29.989593                157.358764  \n",
       "3              10.697588      0.536178  29.912801                161.363032  "
      ]
     },
     "execution_count": 39,
     "metadata": {},
     "output_type": "execute_result"
    }
   ],
   "source": [
    "gym.groupby('cluster').mean().iloc[:,0:9]"
   ]
  },
  {
   "cell_type": "code",
   "execution_count": 40,
   "metadata": {},
   "outputs": [
    {
     "data": {
      "text/html": [
       "<div>\n",
       "<style scoped>\n",
       "    .dataframe tbody tr th:only-of-type {\n",
       "        vertical-align: middle;\n",
       "    }\n",
       "\n",
       "    .dataframe tbody tr th {\n",
       "        vertical-align: top;\n",
       "    }\n",
       "\n",
       "    .dataframe thead th {\n",
       "        text-align: right;\n",
       "    }\n",
       "</style>\n",
       "<table border=\"1\" class=\"dataframe\">\n",
       "  <thead>\n",
       "    <tr style=\"text-align: right;\">\n",
       "      <th></th>\n",
       "      <th>Month_to_end_contract</th>\n",
       "      <th>Lifetime</th>\n",
       "      <th>Avg_class_frequency_total</th>\n",
       "      <th>Avg_class_frequency_current_month</th>\n",
       "      <th>Churn</th>\n",
       "    </tr>\n",
       "    <tr>\n",
       "      <th>cluster</th>\n",
       "      <th></th>\n",
       "      <th></th>\n",
       "      <th></th>\n",
       "      <th></th>\n",
       "      <th></th>\n",
       "    </tr>\n",
       "  </thead>\n",
       "  <tbody>\n",
       "    <tr>\n",
       "      <th>0</th>\n",
       "      <td>4.466321</td>\n",
       "      <td>3.940415</td>\n",
       "      <td>1.854211</td>\n",
       "      <td>1.723967</td>\n",
       "      <td>0.284974</td>\n",
       "    </tr>\n",
       "    <tr>\n",
       "      <th>1</th>\n",
       "      <td>1.805274</td>\n",
       "      <td>2.235294</td>\n",
       "      <td>1.204610</td>\n",
       "      <td>0.951590</td>\n",
       "      <td>0.580122</td>\n",
       "    </tr>\n",
       "    <tr>\n",
       "      <th>2</th>\n",
       "      <td>2.239357</td>\n",
       "      <td>4.704825</td>\n",
       "      <td>2.724796</td>\n",
       "      <td>2.711132</td>\n",
       "      <td>0.092715</td>\n",
       "    </tr>\n",
       "    <tr>\n",
       "      <th>3</th>\n",
       "      <td>9.768089</td>\n",
       "      <td>4.730056</td>\n",
       "      <td>1.983884</td>\n",
       "      <td>1.975592</td>\n",
       "      <td>0.038961</td>\n",
       "    </tr>\n",
       "  </tbody>\n",
       "</table>\n",
       "</div>"
      ],
      "text/plain": [
       "         Month_to_end_contract  Lifetime  Avg_class_frequency_total  \\\n",
       "cluster                                                               \n",
       "0                     4.466321  3.940415                   1.854211   \n",
       "1                     1.805274  2.235294                   1.204610   \n",
       "2                     2.239357  4.704825                   2.724796   \n",
       "3                     9.768089  4.730056                   1.983884   \n",
       "\n",
       "         Avg_class_frequency_current_month     Churn  \n",
       "cluster                                               \n",
       "0                                 1.723967  0.284974  \n",
       "1                                 0.951590  0.580122  \n",
       "2                                 2.711132  0.092715  \n",
       "3                                 1.975592  0.038961  "
      ]
     },
     "execution_count": 40,
     "metadata": {},
     "output_type": "execute_result"
    }
   ],
   "source": [
    "gym.groupby('cluster').mean().iloc[:,9:]"
   ]
  },
  {
   "cell_type": "markdown",
   "metadata": {},
   "source": [
    "The mean values of the features for the clusters tell us the following:   \n",
    "As for `Gender`, the distribution across clusters is almost even - a little more men in **clusters 0** and **2**, and a little more women in **cluster 1**. A clear preponderance for the `Partner` and `Promo_friends` features for **cluster 3**. None of the users from **cluster 0** doesn't provide phone number. The longest `Contract_period`, `Month_to_end_contract` is in **cluster 3**. It is difficult to say anything by `Age`, the average value in all **4 clusters** is 28-30 years old, as in the whole data. `Additional_charges_total` is higher, again, for **cluster 3**. `Lifetime` is approximately the same for **clusters 2** and **3**, and the shortest for **cluster 1**. The highest attendance is in **cluster 2**, almost 3 times a week. The cluster most prone to churn is **1**."
   ]
  },
  {
   "cell_type": "markdown",
   "metadata": {},
   "source": [
    "[To the Table of Contents](#go_up)   \n",
    "### 4.5.<a class=\"anchor\" id=\"step_4_5\"></a> Distributions of features for the clusters\n",
    "Plot distributions of features for the clusters. Do you notice anything?"
   ]
  },
  {
   "cell_type": "code",
   "execution_count": 41,
   "metadata": {},
   "outputs": [
    {
     "data": {
      "image/png": "[encoded data removed]",
      "text/plain": [
       "<Figure size 1080x1080 with 14 Axes>"
      ]
     },
     "metadata": {
      "needs_background": "light"
     },
     "output_type": "display_data"
    }
   ],
   "source": [
    "plot_dist(gym,'cluster')"
   ]
  },
  {
   "cell_type": "markdown",
   "metadata": {},
   "source": [
    "We can see that users from **cluster 1** are the most prone to churn. They have shorter contracts and a lower number of months until the end of the contract. They spend less and go to the gym less often. But the proximity of the facility to home or work is important for users from **all clusters**. **Cluster 3** includes users with the longest contracts, while **cluster 2** is particularly zealous by going to the gym. **Cluster 1** is also more prone to outflow compared to **clusters 2** and **3**."
   ]
  },
  {
   "cell_type": "markdown",
   "metadata": {},
   "source": [
    "[To the Table of Contents](#go_up)   \n",
    "### 4.6.<a class=\"anchor\" id=\"step_4_6\"></a> Calculating the churn rate for the clusters\n",
    "Calculate the churn rate for each cluster (use the groupby() method). Do they differ in terms of churn rate? Which clusters are prone to leaving, and which are loyal?"
   ]
  },
  {
   "cell_type": "code",
   "execution_count": 42,
   "metadata": {
    "scrolled": false
   },
   "outputs": [
    {
     "data": {
      "text/html": [
       "<div>\n",
       "<style scoped>\n",
       "    .dataframe tbody tr th:only-of-type {\n",
       "        vertical-align: middle;\n",
       "    }\n",
       "\n",
       "    .dataframe tbody tr th {\n",
       "        vertical-align: top;\n",
       "    }\n",
       "\n",
       "    .dataframe thead tr th {\n",
       "        text-align: left;\n",
       "    }\n",
       "</style>\n",
       "<table border=\"1\" class=\"dataframe\">\n",
       "  <thead>\n",
       "    <tr>\n",
       "      <th></th>\n",
       "      <th>cluster</th>\n",
       "      <th>Total</th>\n",
       "      <th>Left</th>\n",
       "      <th>Churn_rate,%</th>\n",
       "    </tr>\n",
       "    <tr>\n",
       "      <th></th>\n",
       "      <th></th>\n",
       "      <th></th>\n",
       "      <th></th>\n",
       "      <th></th>\n",
       "    </tr>\n",
       "  </thead>\n",
       "  <tbody>\n",
       "    <tr>\n",
       "      <th>0</th>\n",
       "      <td>0</td>\n",
       "      <td>386</td>\n",
       "      <td>110</td>\n",
       "      <td>-28.50</td>\n",
       "    </tr>\n",
       "    <tr>\n",
       "      <th>1</th>\n",
       "      <td>1</td>\n",
       "      <td>1479</td>\n",
       "      <td>858</td>\n",
       "      <td>-58.01</td>\n",
       "    </tr>\n",
       "    <tr>\n",
       "      <th>2</th>\n",
       "      <td>2</td>\n",
       "      <td>1057</td>\n",
       "      <td>98</td>\n",
       "      <td>-9.27</td>\n",
       "    </tr>\n",
       "    <tr>\n",
       "      <th>3</th>\n",
       "      <td>3</td>\n",
       "      <td>1078</td>\n",
       "      <td>42</td>\n",
       "      <td>-3.90</td>\n",
       "    </tr>\n",
       "  </tbody>\n",
       "</table>\n",
       "</div>"
      ],
      "text/plain": [
       "  cluster Total Left Churn_rate,%\n",
       "                                 \n",
       "0       0   386  110       -28.50\n",
       "1       1  1479  858       -58.01\n",
       "2       2  1057   98        -9.27\n",
       "3       3  1078   42        -3.90"
      ]
     },
     "execution_count": 42,
     "metadata": {},
     "output_type": "execute_result"
    }
   ],
   "source": [
    "gym.pivot_table(\n",
    "            index='cluster',\n",
    "            values='Churn', \n",
    "            aggfunc=['count',\n",
    "                     'sum', \n",
    "                     lambda x: round(((x == 0).sum() / x.count() - 1) * 100, 2)]).rename(\n",
    "                    columns={'count':'Total', 'Churn':'', 'sum':'Left', '<lambda>':'Churn_rate,%'}).reset_index()"
   ]
  },
  {
   "cell_type": "markdown",
   "metadata": {},
   "source": [
    "As we mentioned above, the cluster with the highest `Churn_rate` is **cluster 1 (58%)**, followed by **cluster 0 (28.5%)**. The most regular customers were in **clusters 2** and **3**, the `Churn_rate` in these clusters is **9%** and **3.9%**, respectively."
   ]
  },
  {
   "cell_type": "markdown",
   "metadata": {},
   "source": [
    "At the step 4, a distance matrix was built, and with its help a dendrogram was drawn, which, together with the elbow method, helped to determine the number of clusters into which we had to divide the users of the gym chain. After 4 clusters were formed, the mean value of the features and their distribution on the plots were analyzed. The last task was to calculate the Churn_rate for each cluster."
   ]
  },
  {
   "cell_type": "markdown",
   "metadata": {},
   "source": [
    "[To the Table of Contents](#go_up)   \n",
    "## Step 5. <a class=\"anchor\" id=\"step_5\"></a>Conclusions and basic recommendations on working with customers\n",
    "Draw conclusions and formulate recommendations regarding the strategy for customer interaction and retention.\n",
    "You don't need to go into detail. Three or four essential principles and examples of their implementation in the form of specific marketing steps will do.\n"
   ]
  },
  {
   "cell_type": "markdown",
   "metadata": {},
   "source": [
    "It seems general recommendations need to be splitted into 2 parts - on the one hand, pay attention to customers who are at risk and try to keep them, and on the other hand, encourage regular customers to stay so.   \n",
    "- As for the first part of the recommendations - as we have seen, the length of the contract and the number of months until the end of the contract play an important role in the retention of users, and therefore, perhaps, it is necessary to offer clients who can leave the gym profitable long contracts, increase engagement, check whether there were any errors on the part of the client service. It might be worth asking clients what happens if they haven't been to the gym for 2 weeks.\n",
    "- The second part of the recommendations related to loyal users also includes high visitor engagement, for example,social networks activities, profitable contract renewal offers. Rewards, discounts, free bonuses, etc. Is a great way to engage customers. The opportunity to receive a good reward motivates users not to cancel the contract."
   ]
  },
  {
   "cell_type": "markdown",
   "metadata": {},
   "source": [
    "[To the Table of Contents](#go_up)   \n",
    "## General conclusions <a class=\"anchor\" id=\"step_6\"></a>"
   ]
  },
  {
   "cell_type": "markdown",
   "metadata": {},
   "source": [
    "The project consisted of 5 steps.\n",
    "- On the **Step 1**, the data was downloaded and opened, the basic information was examined.  \n",
    "- The **Step 2** was dedicated to Exploratory data analysis (EDA). The basic characteristics of the features have been studied, their mean value and standard deviation have been thoroughly analyzed. Distribution features among the groups of those who stayed and those who left the gym were plotted (countplots for discrete values and histograms for continuus values). There was also built a hitmap to identify correlated features.   \n",
    "- On the **Step 3**, 4 machine learning models for supervised binary classification were built. The data was splitted into training and test groups, and the models learned to predict the customers' churn. The main metrics for all these models were calculated and based on their results, the best model for this task was chosen.  \n",
    "- The **Step 4** was devoted to cluster analysis. The number of clusters was determined using a dendrogram. The clusters were analyzed in terms of mean and feature distribution.\n",
    "- On the **Step 5**, recommendations were given regarding user retention."
   ]
  },
  {
   "cell_type": "markdown",
   "metadata": {},
   "source": [
    "[To the Table of Contents](#go_up)   "
   ]
  }
 ],
 "metadata": {
  "kernelspec": {
   "display_name": "Python 3",
   "language": "python",
   "name": "python3"
  },
  "language_info": {
   "codemirror_mode": {
    "name": "ipython",
    "version": 3
   },
   "file_extension": ".py",
   "mimetype": "text/x-python",
   "name": "python",
   "nbconvert_exporter": "python",
   "pygments_lexer": "ipython3",
   "version": "3.7.4"
  }
 },
 "nbformat": 4,
 "nbformat_minor": 2
}
